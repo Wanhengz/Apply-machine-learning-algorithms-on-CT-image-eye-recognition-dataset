{
 "cells": [
  {
   "cell_type": "markdown",
   "metadata": {
    "collapsed": true
   },
   "source": [
    "# Preprocessing\n",
    "1. Take a look at unique values of each column and recode them.\n",
    "2. For lobe(部位), merge 16 unique values into 5 categories: LUL,LLL,RML,RLL,RUL.\n",
    "3. For shape(形状), merge 12 unique values into 4 categories: 类圆形, 团片状, 斑片状, 不规则\n",
    "4. For 病理, merge 27 values into 4 categories: 腺癌, 鳞癌, 腺鳞癌, 多形性癌\n",
    "5. Remove CTnumber, name, 肿瘤体积, 转移情况, 增强幅度, ATK from our training features.Remove exon18 and 20 from our outcome variables.\n",
    "6. Some values in margin(边缘) will be recoded to 0 and 1.\n",
    "7. Values in Gender will be recoded to 0 for male and 1 for female.\n",
    "8. Fill missing values in age with mean and that in other binary variables with 0. Drop two lines which contain missing values in outcome.\n",
    "9. Prepare summary table to show mean values for continuous observations and counts for binary observations.\n",
    "10. Apply one-hot encoding and min-max scaler.\n",
    "11. resample observations from minority class 1 for exon19 to be 288 and for exon21 to be 273.\n",
    "12. Split dataset into 80% train and 20% test subsets in a straitified fashion."
   ]
  },
  {
   "cell_type": "code",
   "execution_count": 1,
   "metadata": {
    "collapsed": true
   },
   "outputs": [],
   "source": [
    "import pandas as pd\n",
    "import numpy as np"
   ]
  },
  {
   "cell_type": "code",
   "execution_count": 2,
   "metadata": {
    "collapsed": true
   },
   "outputs": [],
   "source": [
    "CT=pd.read_excel(\"/Users/wanhengzhang/Documents/intern/eye recognition.xlsx\")"
   ]
  },
  {
   "cell_type": "code",
   "execution_count": 3,
   "metadata": {
    "collapsed": true
   },
   "outputs": [],
   "source": [
    "CT.drop(CT.columns[34:],axis=1,inplace=True)"
   ]
  },
  {
   "cell_type": "code",
   "execution_count": 4,
   "metadata": {},
   "outputs": [
    {
     "data": {
      "text/html": [
       "<div>\n",
       "<style>\n",
       "    .dataframe thead tr:only-child th {\n",
       "        text-align: right;\n",
       "    }\n",
       "\n",
       "    .dataframe thead th {\n",
       "        text-align: left;\n",
       "    }\n",
       "\n",
       "    .dataframe tbody tr th {\n",
       "        vertical-align: top;\n",
       "    }\n",
       "</style>\n",
       "<table border=\"1\" class=\"dataframe\">\n",
       "  <thead>\n",
       "    <tr style=\"text-align: right;\">\n",
       "      <th></th>\n",
       "      <th>CTnumber</th>\n",
       "      <th>name</th>\n",
       "      <th>gender</th>\n",
       "      <th>age</th>\n",
       "      <th>smoker</th>\n",
       "      <th>部位</th>\n",
       "      <th>形状</th>\n",
       "      <th>肿瘤最大径（mm）</th>\n",
       "      <th>肿瘤体积（cm³）</th>\n",
       "      <th>边缘</th>\n",
       "      <th>...</th>\n",
       "      <th>纤维化</th>\n",
       "      <th>转移情况</th>\n",
       "      <th>肺门淋巴结肿大</th>\n",
       "      <th>纵隔淋巴结肿大</th>\n",
       "      <th>增强幅度</th>\n",
       "      <th>病理</th>\n",
       "      <th>18号</th>\n",
       "      <th>19号</th>\n",
       "      <th>20号</th>\n",
       "      <th>21号</th>\n",
       "    </tr>\n",
       "  </thead>\n",
       "  <tbody>\n",
       "    <tr>\n",
       "      <th>0</th>\n",
       "      <td>170579</td>\n",
       "      <td>曾亲弟</td>\n",
       "      <td>F</td>\n",
       "      <td>79.0</td>\n",
       "      <td>0</td>\n",
       "      <td>左肺上叶</td>\n",
       "      <td>类圆形</td>\n",
       "      <td>23.33</td>\n",
       "      <td>3.847</td>\n",
       "      <td>1</td>\n",
       "      <td>...</td>\n",
       "      <td>1</td>\n",
       "      <td>0</td>\n",
       "      <td>0</td>\n",
       "      <td>1.0</td>\n",
       "      <td>1</td>\n",
       "      <td>肺腺癌</td>\n",
       "      <td>0.0</td>\n",
       "      <td>0.0</td>\n",
       "      <td>0.0</td>\n",
       "      <td>1.0</td>\n",
       "    </tr>\n",
       "    <tr>\n",
       "      <th>1</th>\n",
       "      <td>233046</td>\n",
       "      <td>黄建敬</td>\n",
       "      <td>M</td>\n",
       "      <td>76.0</td>\n",
       "      <td>1</td>\n",
       "      <td>右肺中叶</td>\n",
       "      <td>块状</td>\n",
       "      <td>53.54</td>\n",
       "      <td>28.752</td>\n",
       "      <td>1</td>\n",
       "      <td>...</td>\n",
       "      <td>1</td>\n",
       "      <td>0</td>\n",
       "      <td>0</td>\n",
       "      <td>0.0</td>\n",
       "      <td>2</td>\n",
       "      <td>肺腺癌</td>\n",
       "      <td>0.0</td>\n",
       "      <td>0.0</td>\n",
       "      <td>0.0</td>\n",
       "      <td>0.0</td>\n",
       "    </tr>\n",
       "    <tr>\n",
       "      <th>2</th>\n",
       "      <td>283324</td>\n",
       "      <td>何明秀</td>\n",
       "      <td>F</td>\n",
       "      <td>59.0</td>\n",
       "      <td>1</td>\n",
       "      <td>右肺下叶</td>\n",
       "      <td>类圆形</td>\n",
       "      <td>27.41</td>\n",
       "      <td>3.513</td>\n",
       "      <td>1</td>\n",
       "      <td>...</td>\n",
       "      <td>0</td>\n",
       "      <td>0</td>\n",
       "      <td>0</td>\n",
       "      <td>0.0</td>\n",
       "      <td>2</td>\n",
       "      <td>肺腺癌</td>\n",
       "      <td>0.0</td>\n",
       "      <td>0.0</td>\n",
       "      <td>0.0</td>\n",
       "      <td>1.0</td>\n",
       "    </tr>\n",
       "    <tr>\n",
       "      <th>3</th>\n",
       "      <td>378550</td>\n",
       "      <td>王学兰</td>\n",
       "      <td>F</td>\n",
       "      <td>85.0</td>\n",
       "      <td>0</td>\n",
       "      <td>右肺上叶</td>\n",
       "      <td>类圆形</td>\n",
       "      <td>61.33</td>\n",
       "      <td>24.173</td>\n",
       "      <td>1</td>\n",
       "      <td>...</td>\n",
       "      <td>1</td>\n",
       "      <td>0</td>\n",
       "      <td>0</td>\n",
       "      <td>1.0</td>\n",
       "      <td>NaN</td>\n",
       "      <td>肺腺癌</td>\n",
       "      <td>0.0</td>\n",
       "      <td>0.0</td>\n",
       "      <td>0.0</td>\n",
       "      <td>1.0</td>\n",
       "    </tr>\n",
       "    <tr>\n",
       "      <th>4</th>\n",
       "      <td>385828</td>\n",
       "      <td>陈雪清</td>\n",
       "      <td>F</td>\n",
       "      <td>76.0</td>\n",
       "      <td>0</td>\n",
       "      <td>左肺上叶</td>\n",
       "      <td>类圆形</td>\n",
       "      <td>18.12</td>\n",
       "      <td>2.168</td>\n",
       "      <td>1</td>\n",
       "      <td>...</td>\n",
       "      <td>1</td>\n",
       "      <td>0</td>\n",
       "      <td>1</td>\n",
       "      <td>1.0</td>\n",
       "      <td>NaN</td>\n",
       "      <td>肺腺癌</td>\n",
       "      <td>0.0</td>\n",
       "      <td>1.0</td>\n",
       "      <td>0.0</td>\n",
       "      <td>0.0</td>\n",
       "    </tr>\n",
       "  </tbody>\n",
       "</table>\n",
       "<p>5 rows × 34 columns</p>\n",
       "</div>"
      ],
      "text/plain": [
       "  CTnumber name gender   age smoker    部位   形状  肿瘤最大径（mm）  肿瘤体积（cm³） 边缘 ...   \\\n",
       "0   170579  曾亲弟      F  79.0      0  左肺上叶  类圆形      23.33      3.847  1 ...    \n",
       "1   233046  黄建敬      M  76.0      1  右肺中叶   块状      53.54     28.752  1 ...    \n",
       "2   283324  何明秀      F  59.0      1  右肺下叶  类圆形      27.41      3.513  1 ...    \n",
       "3   378550  王学兰      F  85.0      0  右肺上叶  类圆形      61.33     24.173  1 ...    \n",
       "4   385828  陈雪清      F  76.0      0  左肺上叶  类圆形      18.12      2.168  1 ...    \n",
       "\n",
       "   纤维化  转移情况  肺门淋巴结肿大  纵隔淋巴结肿大  增强幅度   病理  18号  19号  20号  21号  \n",
       "0    1     0        0      1.0     1  肺腺癌  0.0  0.0  0.0  1.0  \n",
       "1    1     0        0      0.0     2  肺腺癌  0.0  0.0  0.0  0.0  \n",
       "2    0     0        0      0.0     2  肺腺癌  0.0  0.0  0.0  1.0  \n",
       "3    1     0        0      1.0   NaN  肺腺癌  0.0  0.0  0.0  1.0  \n",
       "4    1     0        1      1.0   NaN  肺腺癌  0.0  1.0  0.0  0.0  \n",
       "\n",
       "[5 rows x 34 columns]"
      ]
     },
     "execution_count": 4,
     "metadata": {},
     "output_type": "execute_result"
    }
   ],
   "source": [
    "CT.head()"
   ]
  },
  {
   "cell_type": "markdown",
   "metadata": {},
   "source": [
    "<Font color='blue'>\n",
    "Find unique values in each column and recode them.\n",
    "<font/>"
   ]
  },
  {
   "cell_type": "code",
   "execution_count": 5,
   "metadata": {},
   "outputs": [
    {
     "data": {
      "text/plain": [
       "array(['左肺上叶', '右肺中叶', '右肺下叶', '右肺上叶', '左肺下叶', '右肺下叶外基底段', '左下肺', '右上肺',\n",
       "       '左上肺', '右下肺', '右中肺', '右肺尖', '左肺尖', '右中叶', '右中上肺', '右上叶'], dtype=object)"
      ]
     },
     "execution_count": 5,
     "metadata": {},
     "output_type": "execute_result"
    }
   ],
   "source": [
    "CT[\"部位\"].unique()"
   ]
  },
  {
   "cell_type": "code",
   "execution_count": 6,
   "metadata": {
    "collapsed": true
   },
   "outputs": [],
   "source": [
    "CT.loc[CT[\"部位\"]==\"左肺上叶\",\"部位\"]=\"LUL\"\n",
    "CT.loc[CT[\"部位\"]==\"左肺下叶\",\"部位\"]=\"LLL\"\n",
    "CT.loc[CT[\"部位\"]==\"左上肺\",\"部位\"]=\"LUL\"\n",
    "CT.loc[CT[\"部位\"]==\"左下肺\",\"部位\"]=\"LLL\"\n",
    "CT.loc[CT[\"部位\"]==\"左肺尖\",\"部位\"]=\"LUL\"\n",
    "CT.loc[CT[\"部位\"]==\"右肺上叶\",\"部位\"]=\"RUL\"\n",
    "CT.loc[CT[\"部位\"]==\"右肺中叶\",\"部位\"]=\"RML\"\n",
    "CT.loc[CT[\"部位\"]==\"右肺下叶\",\"部位\"]=\"RLL\"\n",
    "CT.loc[CT[\"部位\"]==\"右上肺\",\"部位\"]=\"RUL\"\n",
    "CT.loc[CT[\"部位\"]==\"右下肺\",\"部位\"]=\"RLL\"\n",
    "CT.loc[CT[\"部位\"]==\"右肺下叶外基底段\",\"部位\"]=\"RLL\"\n",
    "CT.loc[CT[\"部位\"]==\"右中肺\",\"部位\"]=\"RML\"\n",
    "CT.loc[CT[\"部位\"]==\"右肺尖\",\"部位\"]=\"RUL\"\n",
    "CT.loc[CT[\"部位\"]==\"右中上肺\",\"部位\"]=\"RML\"\n",
    "CT.loc[CT[\"部位\"]==\"右上叶\",\"部位\"]=\"RUL\"\n",
    "CT.loc[CT[\"部位\"]==\"右中叶\",\"部位\"]=\"RML\""
   ]
  },
  {
   "cell_type": "code",
   "execution_count": 7,
   "metadata": {},
   "outputs": [
    {
     "data": {
      "text/plain": [
       "array(['LUL', 'RML', 'RLL', 'RUL', 'LLL'], dtype=object)"
      ]
     },
     "execution_count": 7,
     "metadata": {},
     "output_type": "execute_result"
    }
   ],
   "source": [
    "CT[\"部位\"].unique()"
   ]
  },
  {
   "cell_type": "code",
   "execution_count": 8,
   "metadata": {},
   "outputs": [
    {
     "data": {
      "text/plain": [
       "array(['类圆形', '块状', '浅分叶', '斑片状', '结节', '团块', '团片', '片状', '团片状', '不规则',\n",
       "       '团状', '结节状'], dtype=object)"
      ]
     },
     "execution_count": 8,
     "metadata": {},
     "output_type": "execute_result"
    }
   ],
   "source": [
    "CT[\"形状\"].unique()"
   ]
  },
  {
   "cell_type": "code",
   "execution_count": 9,
   "metadata": {
    "collapsed": true
   },
   "outputs": [],
   "source": [
    "CT.loc[CT['形状']=='斑片状',\"形状\"]=\"斑片状\"\n",
    "CT.loc[CT['形状']=='磨玻璃',\"形状\"]=\"斑片状\"\n",
    "CT.loc[CT['形状']=='片状',\"形状\"]=\"斑片状\"\n",
    "CT.loc[CT['形状']=='不规则',\"形状\"]=\"不规则\"\n",
    "CT.loc[CT['形状']=='浅分叶',\"形状\"]=\"不规则\"\n",
    "CT.loc[CT['形状']=='结节',\"形状\"]=\"类圆形\"\n",
    "CT.loc[CT['形状']=='结节状',\"形状\"]=\"类圆形\"\n",
    "CT.loc[CT['形状']=='类圆形',\"形状\"]=\"类圆形\"\n",
    "CT.loc[CT['形状']=='块状',\"形状\"]=\"团片状\"\n",
    "CT.loc[CT['形状']=='团块',\"形状\"]=\"团片状\"\n",
    "CT.loc[CT['形状']=='团片',\"形状\"]=\"团片状\"\n",
    "CT.loc[CT['形状']=='团片状',\"形状\"]=\"团片状\"\n",
    "CT.loc[CT['形状']=='团状',\"形状\"]=\"团片状\""
   ]
  },
  {
   "cell_type": "code",
   "execution_count": 10,
   "metadata": {},
   "outputs": [
    {
     "data": {
      "text/plain": [
       "array(['类圆形', '团片状', '不规则', '斑片状'], dtype=object)"
      ]
     },
     "execution_count": 10,
     "metadata": {},
     "output_type": "execute_result"
    }
   ],
   "source": [
    "CT['形状'].unique()"
   ]
  },
  {
   "cell_type": "code",
   "execution_count": 11,
   "metadata": {},
   "outputs": [
    {
     "data": {
      "text/plain": [
       "array(['肺腺癌', '肺鳞癌', '鳞腺癌', '胸膜腺癌', '浸润性肺腺癌', '肺浸润性腺癌', '黏液腺癌', '浸润性腺癌',\n",
       "       '浸润性鳞状细胞癌癌', '鳞状细胞癌', '肺多形性癌', '低分化腺癌', '腺癌', '微小浸润性腺癌', '鳞癌',\n",
       "       '微浸润性腺癌', '浸润性鳞癌', '肺浸润性腺鳞癌', '浸润性癌', '腺癌，中-低分化', '浸润性鳞状细胞癌',\n",
       "       '原位腺癌伴微浸润', '肺鳞状细胞癌', '微浸润性肺腺癌', '鳞状 细胞癌', '腺癌，中分化，腺泡型', '肺原位腺癌'], dtype=object)"
      ]
     },
     "execution_count": 11,
     "metadata": {},
     "output_type": "execute_result"
    }
   ],
   "source": [
    "CT[\"病理\"].unique()"
   ]
  },
  {
   "cell_type": "code",
   "execution_count": 12,
   "metadata": {
    "collapsed": true
   },
   "outputs": [],
   "source": [
    "CT.loc[CT['病理']=='低分化腺癌',\"病理\"]=\"腺癌\"\n",
    "CT.loc[CT['病理']=='肺多形性癌',\"病理\"]=\"多形性癌\"\n",
    "CT.loc[CT['病理']=='肺浸润性腺癌',\"病理\"]=\"腺癌\"\n",
    "CT.loc[CT['病理']=='肺浸润性腺鳞癌',\"病理\"]=\"腺鳞癌\"\n",
    "CT.loc[CT['病理']=='肺鳞癌',\"病理\"]=\"鳞癌\"\n",
    "CT.loc[CT['病理']=='肺鳞状细胞癌',\"病理\"]=\"鳞癌\"\n",
    "CT.loc[CT['病理']=='肺腺癌',\"病理\"]=\"腺癌\"\n",
    "CT.loc[CT['病理']=='肺原位腺癌',\"病理\"]=\"腺癌\"\n",
    "CT.loc[CT['病理']=='浸润性癌',\"病理\"]=\"鳞癌\"\n",
    "CT.loc[CT['病理']=='浸润性肺腺癌',\"病理\"]=\"腺癌\"\n",
    "CT.loc[CT['病理']=='浸润性鳞癌',\"病理\"]=\"鳞癌\"\n",
    "CT.loc[CT['病理']=='浸润性鳞状细胞癌',\"病理\"]=\"鳞癌\"\n",
    "CT.loc[CT['病理']=='浸润性鳞状细胞癌癌',\"病理\"]=\"腺癌\"\n",
    "CT.loc[CT['病理']=='浸润性腺癌',\"病理\"]=\"腺癌\"\n",
    "CT.loc[CT['病理']=='鳞癌',\"病理\"]=\"鳞癌\"\n",
    "CT.loc[CT['病理']=='鳞腺癌',\"病理\"]=\"腺鳞癌\"\n",
    "CT.loc[CT['病理']=='鳞状 细胞癌',\"病理\"]=\"鳞癌\"\n",
    "CT.loc[CT['病理']=='鳞状细胞癌',\"病理\"]=\"鳞癌\"\n",
    "CT.loc[CT['病理']=='黏液腺癌',\"病理\"]='腺癌'\n",
    "CT.loc[CT['病理']=='微浸润性肺腺癌',\"病理\"]=\"腺癌\"\n",
    "CT.loc[CT['病理']=='微浸润性腺癌',\"病理\"]=\"腺癌\"\n",
    "CT.loc[CT['病理']=='微小浸润性腺癌',\"病理\"]=\"腺癌\"\n",
    "CT.loc[CT['病理']=='腺癌',\"病理\"]=\"腺癌\"\n",
    "CT.loc[CT['病理']=='腺癌，中-低分化',\"病理\"]=\"腺癌\"\n",
    "CT.loc[CT['病理']=='腺癌，中分化，腺泡型',\"病理\"]=\"腺癌\"\n",
    "CT.loc[CT['病理']=='胸膜腺癌',\"病理\"]=\"腺癌\"\n",
    "CT.loc[CT['病理']=='原位腺癌伴微浸润',\"病理\"]=\"腺癌\""
   ]
  },
  {
   "cell_type": "code",
   "execution_count": 13,
   "metadata": {},
   "outputs": [
    {
     "data": {
      "text/plain": [
       "array(['腺癌', '鳞癌', '腺鳞癌', '多形性癌'], dtype=object)"
      ]
     },
     "execution_count": 13,
     "metadata": {},
     "output_type": "execute_result"
    }
   ],
   "source": [
    "CT[\"病理\"].unique()"
   ]
  },
  {
   "cell_type": "code",
   "execution_count": 14,
   "metadata": {
    "collapsed": true
   },
   "outputs": [],
   "source": [
    "CT.drop(\"18号\",axis=1,inplace=True)\n",
    "CT.drop(\"20号\",axis=1,inplace=True)"
   ]
  },
  {
   "cell_type": "code",
   "execution_count": 15,
   "metadata": {},
   "outputs": [
    {
     "data": {
      "text/html": [
       "<div>\n",
       "<style>\n",
       "    .dataframe thead tr:only-child th {\n",
       "        text-align: right;\n",
       "    }\n",
       "\n",
       "    .dataframe thead th {\n",
       "        text-align: left;\n",
       "    }\n",
       "\n",
       "    .dataframe tbody tr th {\n",
       "        vertical-align: top;\n",
       "    }\n",
       "</style>\n",
       "<table border=\"1\" class=\"dataframe\">\n",
       "  <thead>\n",
       "    <tr style=\"text-align: right;\">\n",
       "      <th></th>\n",
       "      <th>CTnumber</th>\n",
       "      <th>name</th>\n",
       "      <th>gender</th>\n",
       "      <th>age</th>\n",
       "      <th>smoker</th>\n",
       "      <th>部位</th>\n",
       "      <th>形状</th>\n",
       "      <th>肿瘤最大径（mm）</th>\n",
       "      <th>肿瘤体积（cm³）</th>\n",
       "      <th>边缘</th>\n",
       "      <th>...</th>\n",
       "      <th>钙化</th>\n",
       "      <th>肺气肿</th>\n",
       "      <th>纤维化</th>\n",
       "      <th>转移情况</th>\n",
       "      <th>肺门淋巴结肿大</th>\n",
       "      <th>纵隔淋巴结肿大</th>\n",
       "      <th>增强幅度</th>\n",
       "      <th>病理</th>\n",
       "      <th>19号</th>\n",
       "      <th>21号</th>\n",
       "    </tr>\n",
       "  </thead>\n",
       "  <tbody>\n",
       "    <tr>\n",
       "      <th>0</th>\n",
       "      <td>170579</td>\n",
       "      <td>曾亲弟</td>\n",
       "      <td>F</td>\n",
       "      <td>79.0</td>\n",
       "      <td>0</td>\n",
       "      <td>LUL</td>\n",
       "      <td>类圆形</td>\n",
       "      <td>23.33</td>\n",
       "      <td>3.847</td>\n",
       "      <td>1</td>\n",
       "      <td>...</td>\n",
       "      <td>0</td>\n",
       "      <td>0</td>\n",
       "      <td>1</td>\n",
       "      <td>0</td>\n",
       "      <td>0</td>\n",
       "      <td>1.0</td>\n",
       "      <td>1</td>\n",
       "      <td>腺癌</td>\n",
       "      <td>0.0</td>\n",
       "      <td>1.0</td>\n",
       "    </tr>\n",
       "    <tr>\n",
       "      <th>1</th>\n",
       "      <td>233046</td>\n",
       "      <td>黄建敬</td>\n",
       "      <td>M</td>\n",
       "      <td>76.0</td>\n",
       "      <td>1</td>\n",
       "      <td>RML</td>\n",
       "      <td>团片状</td>\n",
       "      <td>53.54</td>\n",
       "      <td>28.752</td>\n",
       "      <td>1</td>\n",
       "      <td>...</td>\n",
       "      <td>0</td>\n",
       "      <td>0</td>\n",
       "      <td>1</td>\n",
       "      <td>0</td>\n",
       "      <td>0</td>\n",
       "      <td>0.0</td>\n",
       "      <td>2</td>\n",
       "      <td>腺癌</td>\n",
       "      <td>0.0</td>\n",
       "      <td>0.0</td>\n",
       "    </tr>\n",
       "    <tr>\n",
       "      <th>2</th>\n",
       "      <td>283324</td>\n",
       "      <td>何明秀</td>\n",
       "      <td>F</td>\n",
       "      <td>59.0</td>\n",
       "      <td>1</td>\n",
       "      <td>RLL</td>\n",
       "      <td>类圆形</td>\n",
       "      <td>27.41</td>\n",
       "      <td>3.513</td>\n",
       "      <td>1</td>\n",
       "      <td>...</td>\n",
       "      <td>0</td>\n",
       "      <td>0</td>\n",
       "      <td>0</td>\n",
       "      <td>0</td>\n",
       "      <td>0</td>\n",
       "      <td>0.0</td>\n",
       "      <td>2</td>\n",
       "      <td>腺癌</td>\n",
       "      <td>0.0</td>\n",
       "      <td>1.0</td>\n",
       "    </tr>\n",
       "    <tr>\n",
       "      <th>3</th>\n",
       "      <td>378550</td>\n",
       "      <td>王学兰</td>\n",
       "      <td>F</td>\n",
       "      <td>85.0</td>\n",
       "      <td>0</td>\n",
       "      <td>RUL</td>\n",
       "      <td>类圆形</td>\n",
       "      <td>61.33</td>\n",
       "      <td>24.173</td>\n",
       "      <td>1</td>\n",
       "      <td>...</td>\n",
       "      <td>0</td>\n",
       "      <td>0</td>\n",
       "      <td>1</td>\n",
       "      <td>0</td>\n",
       "      <td>0</td>\n",
       "      <td>1.0</td>\n",
       "      <td>NaN</td>\n",
       "      <td>腺癌</td>\n",
       "      <td>0.0</td>\n",
       "      <td>1.0</td>\n",
       "    </tr>\n",
       "    <tr>\n",
       "      <th>4</th>\n",
       "      <td>385828</td>\n",
       "      <td>陈雪清</td>\n",
       "      <td>F</td>\n",
       "      <td>76.0</td>\n",
       "      <td>0</td>\n",
       "      <td>LUL</td>\n",
       "      <td>类圆形</td>\n",
       "      <td>18.12</td>\n",
       "      <td>2.168</td>\n",
       "      <td>1</td>\n",
       "      <td>...</td>\n",
       "      <td>0</td>\n",
       "      <td>0</td>\n",
       "      <td>1</td>\n",
       "      <td>0</td>\n",
       "      <td>1</td>\n",
       "      <td>1.0</td>\n",
       "      <td>NaN</td>\n",
       "      <td>腺癌</td>\n",
       "      <td>1.0</td>\n",
       "      <td>0.0</td>\n",
       "    </tr>\n",
       "    <tr>\n",
       "      <th>5</th>\n",
       "      <td>406957</td>\n",
       "      <td>沈友书</td>\n",
       "      <td>F</td>\n",
       "      <td>80.0</td>\n",
       "      <td>0</td>\n",
       "      <td>RLL</td>\n",
       "      <td>类圆形</td>\n",
       "      <td>33.82</td>\n",
       "      <td>7.743</td>\n",
       "      <td>1</td>\n",
       "      <td>...</td>\n",
       "      <td>0</td>\n",
       "      <td>0</td>\n",
       "      <td>1</td>\n",
       "      <td>0</td>\n",
       "      <td>1</td>\n",
       "      <td>0.0</td>\n",
       "      <td>1</td>\n",
       "      <td>腺癌</td>\n",
       "      <td>0.0</td>\n",
       "      <td>0.0</td>\n",
       "    </tr>\n",
       "    <tr>\n",
       "      <th>6</th>\n",
       "      <td>411365</td>\n",
       "      <td>陈耀才</td>\n",
       "      <td>M</td>\n",
       "      <td>82.0</td>\n",
       "      <td>0</td>\n",
       "      <td>LLL</td>\n",
       "      <td>类圆形</td>\n",
       "      <td>36.77</td>\n",
       "      <td>15.483</td>\n",
       "      <td>1</td>\n",
       "      <td>...</td>\n",
       "      <td>0</td>\n",
       "      <td>0</td>\n",
       "      <td>1</td>\n",
       "      <td>0</td>\n",
       "      <td>0</td>\n",
       "      <td>1.0</td>\n",
       "      <td>1</td>\n",
       "      <td>腺癌</td>\n",
       "      <td>0.0</td>\n",
       "      <td>0.0</td>\n",
       "    </tr>\n",
       "    <tr>\n",
       "      <th>7</th>\n",
       "      <td>424813</td>\n",
       "      <td>秦文安</td>\n",
       "      <td>M</td>\n",
       "      <td>47.0</td>\n",
       "      <td>0</td>\n",
       "      <td>LUL</td>\n",
       "      <td>类圆形</td>\n",
       "      <td>35.24</td>\n",
       "      <td>11.138</td>\n",
       "      <td>1</td>\n",
       "      <td>...</td>\n",
       "      <td>0</td>\n",
       "      <td>0</td>\n",
       "      <td>0</td>\n",
       "      <td>0</td>\n",
       "      <td>0</td>\n",
       "      <td>0.0</td>\n",
       "      <td>NaN</td>\n",
       "      <td>腺癌</td>\n",
       "      <td>1.0</td>\n",
       "      <td>0.0</td>\n",
       "    </tr>\n",
       "    <tr>\n",
       "      <th>8</th>\n",
       "      <td>425769</td>\n",
       "      <td>曾伟英</td>\n",
       "      <td>F</td>\n",
       "      <td>61.0</td>\n",
       "      <td>0</td>\n",
       "      <td>LUL</td>\n",
       "      <td>类圆形</td>\n",
       "      <td>15.18</td>\n",
       "      <td>0.963</td>\n",
       "      <td>0</td>\n",
       "      <td>...</td>\n",
       "      <td>0</td>\n",
       "      <td>0</td>\n",
       "      <td>0</td>\n",
       "      <td>0</td>\n",
       "      <td>0</td>\n",
       "      <td>0.0</td>\n",
       "      <td>NaN</td>\n",
       "      <td>腺癌</td>\n",
       "      <td>0.0</td>\n",
       "      <td>1.0</td>\n",
       "    </tr>\n",
       "    <tr>\n",
       "      <th>9</th>\n",
       "      <td>427486</td>\n",
       "      <td>聂振高</td>\n",
       "      <td>M</td>\n",
       "      <td>40.0</td>\n",
       "      <td>1</td>\n",
       "      <td>LUL</td>\n",
       "      <td>类圆形</td>\n",
       "      <td>33.02</td>\n",
       "      <td>11.171</td>\n",
       "      <td>1</td>\n",
       "      <td>...</td>\n",
       "      <td>0</td>\n",
       "      <td>0</td>\n",
       "      <td>0</td>\n",
       "      <td>1</td>\n",
       "      <td>0</td>\n",
       "      <td>0.0</td>\n",
       "      <td>3</td>\n",
       "      <td>腺癌</td>\n",
       "      <td>0.0</td>\n",
       "      <td>0.0</td>\n",
       "    </tr>\n",
       "    <tr>\n",
       "      <th>10</th>\n",
       "      <td>432425</td>\n",
       "      <td>罗日湘</td>\n",
       "      <td>M</td>\n",
       "      <td>63.0</td>\n",
       "      <td>0</td>\n",
       "      <td>LUL</td>\n",
       "      <td>类圆形</td>\n",
       "      <td>11.72</td>\n",
       "      <td>0.445</td>\n",
       "      <td>1</td>\n",
       "      <td>...</td>\n",
       "      <td>0</td>\n",
       "      <td>0</td>\n",
       "      <td>0</td>\n",
       "      <td>0</td>\n",
       "      <td>0</td>\n",
       "      <td>0.0</td>\n",
       "      <td>3</td>\n",
       "      <td>腺癌</td>\n",
       "      <td>0.0</td>\n",
       "      <td>0.0</td>\n",
       "    </tr>\n",
       "    <tr>\n",
       "      <th>11</th>\n",
       "      <td>432771</td>\n",
       "      <td>黎云</td>\n",
       "      <td>F</td>\n",
       "      <td>43.0</td>\n",
       "      <td>0</td>\n",
       "      <td>LLL</td>\n",
       "      <td>类圆形</td>\n",
       "      <td>35.58</td>\n",
       "      <td>6.375</td>\n",
       "      <td>1</td>\n",
       "      <td>...</td>\n",
       "      <td>0</td>\n",
       "      <td>0</td>\n",
       "      <td>0</td>\n",
       "      <td>0</td>\n",
       "      <td>0</td>\n",
       "      <td>1.0</td>\n",
       "      <td>3</td>\n",
       "      <td>腺癌</td>\n",
       "      <td>1.0</td>\n",
       "      <td>0.0</td>\n",
       "    </tr>\n",
       "    <tr>\n",
       "      <th>12</th>\n",
       "      <td>434016</td>\n",
       "      <td>杨爱花</td>\n",
       "      <td>F</td>\n",
       "      <td>51.0</td>\n",
       "      <td>0</td>\n",
       "      <td>LUL</td>\n",
       "      <td>类圆形</td>\n",
       "      <td>17.21</td>\n",
       "      <td>2.252</td>\n",
       "      <td>1</td>\n",
       "      <td>...</td>\n",
       "      <td>0</td>\n",
       "      <td>0</td>\n",
       "      <td>0</td>\n",
       "      <td>0</td>\n",
       "      <td>0</td>\n",
       "      <td>0.0</td>\n",
       "      <td>NaN</td>\n",
       "      <td>腺癌</td>\n",
       "      <td>1.0</td>\n",
       "      <td>0.0</td>\n",
       "    </tr>\n",
       "    <tr>\n",
       "      <th>13</th>\n",
       "      <td>436020</td>\n",
       "      <td>文善齐</td>\n",
       "      <td>M</td>\n",
       "      <td>67.0</td>\n",
       "      <td>0</td>\n",
       "      <td>LLL</td>\n",
       "      <td>类圆形</td>\n",
       "      <td>26.62</td>\n",
       "      <td>6.177</td>\n",
       "      <td>1</td>\n",
       "      <td>...</td>\n",
       "      <td>0</td>\n",
       "      <td>0</td>\n",
       "      <td>1</td>\n",
       "      <td>0</td>\n",
       "      <td>0</td>\n",
       "      <td>1.0</td>\n",
       "      <td>2</td>\n",
       "      <td>腺癌</td>\n",
       "      <td>0.0</td>\n",
       "      <td>0.0</td>\n",
       "    </tr>\n",
       "    <tr>\n",
       "      <th>14</th>\n",
       "      <td>436290</td>\n",
       "      <td>曾嘉彪</td>\n",
       "      <td>M</td>\n",
       "      <td>52.0</td>\n",
       "      <td>1</td>\n",
       "      <td>RLL</td>\n",
       "      <td>类圆形</td>\n",
       "      <td>24.96</td>\n",
       "      <td>4.184</td>\n",
       "      <td>0</td>\n",
       "      <td>...</td>\n",
       "      <td>0</td>\n",
       "      <td>0</td>\n",
       "      <td>0</td>\n",
       "      <td>1</td>\n",
       "      <td>0</td>\n",
       "      <td>0.0</td>\n",
       "      <td>NaN</td>\n",
       "      <td>腺癌</td>\n",
       "      <td>0.0</td>\n",
       "      <td>1.0</td>\n",
       "    </tr>\n",
       "    <tr>\n",
       "      <th>15</th>\n",
       "      <td>436419</td>\n",
       "      <td>陈菊香</td>\n",
       "      <td>F</td>\n",
       "      <td>66.0</td>\n",
       "      <td>0</td>\n",
       "      <td>RML</td>\n",
       "      <td>类圆形</td>\n",
       "      <td>22.83</td>\n",
       "      <td>4.457</td>\n",
       "      <td>1</td>\n",
       "      <td>...</td>\n",
       "      <td>0</td>\n",
       "      <td>0</td>\n",
       "      <td>1</td>\n",
       "      <td>1</td>\n",
       "      <td>0</td>\n",
       "      <td>1.0</td>\n",
       "      <td>3</td>\n",
       "      <td>腺癌</td>\n",
       "      <td>0.0</td>\n",
       "      <td>1.0</td>\n",
       "    </tr>\n",
       "    <tr>\n",
       "      <th>16</th>\n",
       "      <td>436580</td>\n",
       "      <td>朱玲辉</td>\n",
       "      <td>F</td>\n",
       "      <td>57.0</td>\n",
       "      <td>0</td>\n",
       "      <td>RUL</td>\n",
       "      <td>类圆形</td>\n",
       "      <td>10.19</td>\n",
       "      <td>0.438</td>\n",
       "      <td>1</td>\n",
       "      <td>...</td>\n",
       "      <td>0</td>\n",
       "      <td>0</td>\n",
       "      <td>0</td>\n",
       "      <td>0</td>\n",
       "      <td>0</td>\n",
       "      <td>0.0</td>\n",
       "      <td>0</td>\n",
       "      <td>腺癌</td>\n",
       "      <td>0.0</td>\n",
       "      <td>1.0</td>\n",
       "    </tr>\n",
       "    <tr>\n",
       "      <th>17</th>\n",
       "      <td>436595</td>\n",
       "      <td>章翠兰</td>\n",
       "      <td>F</td>\n",
       "      <td>65.0</td>\n",
       "      <td>0</td>\n",
       "      <td>LLL</td>\n",
       "      <td>团片状</td>\n",
       "      <td>23.57</td>\n",
       "      <td>2.855</td>\n",
       "      <td>1</td>\n",
       "      <td>...</td>\n",
       "      <td>0</td>\n",
       "      <td>0</td>\n",
       "      <td>1</td>\n",
       "      <td>1</td>\n",
       "      <td>1</td>\n",
       "      <td>1.0</td>\n",
       "      <td>3</td>\n",
       "      <td>鳞癌</td>\n",
       "      <td>0.0</td>\n",
       "      <td>0.0</td>\n",
       "    </tr>\n",
       "    <tr>\n",
       "      <th>18</th>\n",
       "      <td>437990</td>\n",
       "      <td>杨己连</td>\n",
       "      <td>F</td>\n",
       "      <td>64.0</td>\n",
       "      <td>0</td>\n",
       "      <td>RUL</td>\n",
       "      <td>类圆形</td>\n",
       "      <td>53.81</td>\n",
       "      <td>43.277</td>\n",
       "      <td>1</td>\n",
       "      <td>...</td>\n",
       "      <td>0</td>\n",
       "      <td>0</td>\n",
       "      <td>1</td>\n",
       "      <td>1</td>\n",
       "      <td>0</td>\n",
       "      <td>1.0</td>\n",
       "      <td>2</td>\n",
       "      <td>腺癌</td>\n",
       "      <td>1.0</td>\n",
       "      <td>0.0</td>\n",
       "    </tr>\n",
       "    <tr>\n",
       "      <th>19</th>\n",
       "      <td>438482</td>\n",
       "      <td>陈月贞</td>\n",
       "      <td>F</td>\n",
       "      <td>56.0</td>\n",
       "      <td>0</td>\n",
       "      <td>RML</td>\n",
       "      <td>类圆形</td>\n",
       "      <td>28.96</td>\n",
       "      <td>4.494</td>\n",
       "      <td>1</td>\n",
       "      <td>...</td>\n",
       "      <td>0</td>\n",
       "      <td>0</td>\n",
       "      <td>1</td>\n",
       "      <td>1</td>\n",
       "      <td>1</td>\n",
       "      <td>1.0</td>\n",
       "      <td>2</td>\n",
       "      <td>腺癌</td>\n",
       "      <td>1.0</td>\n",
       "      <td>0.0</td>\n",
       "    </tr>\n",
       "    <tr>\n",
       "      <th>20</th>\n",
       "      <td>440945</td>\n",
       "      <td>潘小英</td>\n",
       "      <td>F</td>\n",
       "      <td>53.0</td>\n",
       "      <td>0</td>\n",
       "      <td>LLL</td>\n",
       "      <td>团片状</td>\n",
       "      <td>26.48</td>\n",
       "      <td>3.000</td>\n",
       "      <td>1</td>\n",
       "      <td>...</td>\n",
       "      <td>0</td>\n",
       "      <td>0</td>\n",
       "      <td>1</td>\n",
       "      <td>1</td>\n",
       "      <td>1</td>\n",
       "      <td>1.0</td>\n",
       "      <td>1</td>\n",
       "      <td>腺癌</td>\n",
       "      <td>1.0</td>\n",
       "      <td>0.0</td>\n",
       "    </tr>\n",
       "    <tr>\n",
       "      <th>21</th>\n",
       "      <td>442605</td>\n",
       "      <td>聂建民</td>\n",
       "      <td>M</td>\n",
       "      <td>54.0</td>\n",
       "      <td>0</td>\n",
       "      <td>RUL</td>\n",
       "      <td>类圆形</td>\n",
       "      <td>42.23</td>\n",
       "      <td>14.835</td>\n",
       "      <td>1</td>\n",
       "      <td>...</td>\n",
       "      <td>0</td>\n",
       "      <td>0</td>\n",
       "      <td>0</td>\n",
       "      <td>1</td>\n",
       "      <td>0</td>\n",
       "      <td>0.0</td>\n",
       "      <td>NaN</td>\n",
       "      <td>腺癌</td>\n",
       "      <td>0.0</td>\n",
       "      <td>1.0</td>\n",
       "    </tr>\n",
       "    <tr>\n",
       "      <th>22</th>\n",
       "      <td>442874</td>\n",
       "      <td>唐匡</td>\n",
       "      <td>M</td>\n",
       "      <td>78.0</td>\n",
       "      <td>1</td>\n",
       "      <td>LLL</td>\n",
       "      <td>团片状</td>\n",
       "      <td>53.20</td>\n",
       "      <td>47.370</td>\n",
       "      <td>1</td>\n",
       "      <td>...</td>\n",
       "      <td>1</td>\n",
       "      <td>0</td>\n",
       "      <td>1</td>\n",
       "      <td>1</td>\n",
       "      <td>1</td>\n",
       "      <td>1.0</td>\n",
       "      <td>3</td>\n",
       "      <td>腺癌</td>\n",
       "      <td>0.0</td>\n",
       "      <td>0.0</td>\n",
       "    </tr>\n",
       "    <tr>\n",
       "      <th>23</th>\n",
       "      <td>443648</td>\n",
       "      <td>张传明</td>\n",
       "      <td>F</td>\n",
       "      <td>67.0</td>\n",
       "      <td>0</td>\n",
       "      <td>RML</td>\n",
       "      <td>类圆形</td>\n",
       "      <td>40.90</td>\n",
       "      <td>13.801</td>\n",
       "      <td>1</td>\n",
       "      <td>...</td>\n",
       "      <td>0</td>\n",
       "      <td>0</td>\n",
       "      <td>0</td>\n",
       "      <td>0</td>\n",
       "      <td>0</td>\n",
       "      <td>0.0</td>\n",
       "      <td>2</td>\n",
       "      <td>腺癌</td>\n",
       "      <td>0.0</td>\n",
       "      <td>0.0</td>\n",
       "    </tr>\n",
       "    <tr>\n",
       "      <th>24</th>\n",
       "      <td>443843</td>\n",
       "      <td>赖大彬</td>\n",
       "      <td>M</td>\n",
       "      <td>61.0</td>\n",
       "      <td>0</td>\n",
       "      <td>RUL</td>\n",
       "      <td>类圆形</td>\n",
       "      <td>35.32</td>\n",
       "      <td>7.989</td>\n",
       "      <td>1</td>\n",
       "      <td>...</td>\n",
       "      <td>0</td>\n",
       "      <td>0</td>\n",
       "      <td>0</td>\n",
       "      <td>0</td>\n",
       "      <td>0</td>\n",
       "      <td>1.0</td>\n",
       "      <td>NaN</td>\n",
       "      <td>腺癌</td>\n",
       "      <td>0.0</td>\n",
       "      <td>1.0</td>\n",
       "    </tr>\n",
       "    <tr>\n",
       "      <th>25</th>\n",
       "      <td>445103</td>\n",
       "      <td>徐勇</td>\n",
       "      <td>M</td>\n",
       "      <td>35.0</td>\n",
       "      <td>0</td>\n",
       "      <td>LUL</td>\n",
       "      <td>类圆形</td>\n",
       "      <td>23.35</td>\n",
       "      <td>4.677</td>\n",
       "      <td>1</td>\n",
       "      <td>...</td>\n",
       "      <td>0</td>\n",
       "      <td>0</td>\n",
       "      <td>0</td>\n",
       "      <td>1</td>\n",
       "      <td>0</td>\n",
       "      <td>0.0</td>\n",
       "      <td>2</td>\n",
       "      <td>腺癌</td>\n",
       "      <td>1.0</td>\n",
       "      <td>0.0</td>\n",
       "    </tr>\n",
       "    <tr>\n",
       "      <th>26</th>\n",
       "      <td>445337</td>\n",
       "      <td>周炳森</td>\n",
       "      <td>M</td>\n",
       "      <td>59.0</td>\n",
       "      <td>0</td>\n",
       "      <td>LUL</td>\n",
       "      <td>类圆形</td>\n",
       "      <td>42.84</td>\n",
       "      <td>22.975</td>\n",
       "      <td>1</td>\n",
       "      <td>...</td>\n",
       "      <td>0</td>\n",
       "      <td>0</td>\n",
       "      <td>1</td>\n",
       "      <td>1</td>\n",
       "      <td>0</td>\n",
       "      <td>1.0</td>\n",
       "      <td>3</td>\n",
       "      <td>腺癌</td>\n",
       "      <td>1.0</td>\n",
       "      <td>0.0</td>\n",
       "    </tr>\n",
       "    <tr>\n",
       "      <th>27</th>\n",
       "      <td>446285</td>\n",
       "      <td>王德钦</td>\n",
       "      <td>M</td>\n",
       "      <td>74.0</td>\n",
       "      <td>0</td>\n",
       "      <td>LLL</td>\n",
       "      <td>类圆形</td>\n",
       "      <td>20.26</td>\n",
       "      <td>1.590</td>\n",
       "      <td>1</td>\n",
       "      <td>...</td>\n",
       "      <td>0</td>\n",
       "      <td>0</td>\n",
       "      <td>1</td>\n",
       "      <td>0</td>\n",
       "      <td>0</td>\n",
       "      <td>0.0</td>\n",
       "      <td>NaN</td>\n",
       "      <td>腺癌</td>\n",
       "      <td>0.0</td>\n",
       "      <td>0.0</td>\n",
       "    </tr>\n",
       "    <tr>\n",
       "      <th>28</th>\n",
       "      <td>446439</td>\n",
       "      <td>于淑文</td>\n",
       "      <td>F</td>\n",
       "      <td>71.0</td>\n",
       "      <td>0</td>\n",
       "      <td>LLL</td>\n",
       "      <td>类圆形</td>\n",
       "      <td>18.73</td>\n",
       "      <td>1.276</td>\n",
       "      <td>1</td>\n",
       "      <td>...</td>\n",
       "      <td>0</td>\n",
       "      <td>0</td>\n",
       "      <td>0</td>\n",
       "      <td>0</td>\n",
       "      <td>0</td>\n",
       "      <td>1.0</td>\n",
       "      <td>NaN</td>\n",
       "      <td>腺癌</td>\n",
       "      <td>0.0</td>\n",
       "      <td>1.0</td>\n",
       "    </tr>\n",
       "    <tr>\n",
       "      <th>29</th>\n",
       "      <td>446492</td>\n",
       "      <td>张玉林</td>\n",
       "      <td>M</td>\n",
       "      <td>73.0</td>\n",
       "      <td>1</td>\n",
       "      <td>LLL</td>\n",
       "      <td>类圆形</td>\n",
       "      <td>21.12</td>\n",
       "      <td>2.637</td>\n",
       "      <td>1</td>\n",
       "      <td>...</td>\n",
       "      <td>0</td>\n",
       "      <td>0</td>\n",
       "      <td>0</td>\n",
       "      <td>1</td>\n",
       "      <td>0</td>\n",
       "      <td>1.0</td>\n",
       "      <td>1</td>\n",
       "      <td>鳞癌</td>\n",
       "      <td>0.0</td>\n",
       "      <td>0.0</td>\n",
       "    </tr>\n",
       "    <tr>\n",
       "      <th>...</th>\n",
       "      <td>...</td>\n",
       "      <td>...</td>\n",
       "      <td>...</td>\n",
       "      <td>...</td>\n",
       "      <td>...</td>\n",
       "      <td>...</td>\n",
       "      <td>...</td>\n",
       "      <td>...</td>\n",
       "      <td>...</td>\n",
       "      <td>...</td>\n",
       "      <td>...</td>\n",
       "      <td>...</td>\n",
       "      <td>...</td>\n",
       "      <td>...</td>\n",
       "      <td>...</td>\n",
       "      <td>...</td>\n",
       "      <td>...</td>\n",
       "      <td>...</td>\n",
       "      <td>...</td>\n",
       "      <td>...</td>\n",
       "      <td>...</td>\n",
       "    </tr>\n",
       "    <tr>\n",
       "      <th>330</th>\n",
       "      <td>509083</td>\n",
       "      <td>王玉兰</td>\n",
       "      <td>F</td>\n",
       "      <td>80.0</td>\n",
       "      <td>0</td>\n",
       "      <td>RML</td>\n",
       "      <td>类圆形</td>\n",
       "      <td>22.00</td>\n",
       "      <td>5.800</td>\n",
       "      <td>不清</td>\n",
       "      <td>...</td>\n",
       "      <td>0</td>\n",
       "      <td>0</td>\n",
       "      <td>1</td>\n",
       "      <td>0</td>\n",
       "      <td>0</td>\n",
       "      <td>0.0</td>\n",
       "      <td>NaN</td>\n",
       "      <td>腺癌</td>\n",
       "      <td>0.0</td>\n",
       "      <td>1.0</td>\n",
       "    </tr>\n",
       "    <tr>\n",
       "      <th>331</th>\n",
       "      <td>509096</td>\n",
       "      <td>朱致钢</td>\n",
       "      <td>M</td>\n",
       "      <td>55.0</td>\n",
       "      <td>1</td>\n",
       "      <td>RUL</td>\n",
       "      <td>团片状</td>\n",
       "      <td>22.00</td>\n",
       "      <td>5.700</td>\n",
       "      <td>尚清</td>\n",
       "      <td>...</td>\n",
       "      <td>0</td>\n",
       "      <td>1</td>\n",
       "      <td>1</td>\n",
       "      <td>0</td>\n",
       "      <td>1</td>\n",
       "      <td>1.0</td>\n",
       "      <td>NaN</td>\n",
       "      <td>腺癌</td>\n",
       "      <td>0.0</td>\n",
       "      <td>0.0</td>\n",
       "    </tr>\n",
       "    <tr>\n",
       "      <th>332</th>\n",
       "      <td>509100</td>\n",
       "      <td>韩玉阁</td>\n",
       "      <td>M</td>\n",
       "      <td>65.0</td>\n",
       "      <td>1</td>\n",
       "      <td>RUL</td>\n",
       "      <td>斑片状</td>\n",
       "      <td>45.00</td>\n",
       "      <td>48.000</td>\n",
       "      <td>不清</td>\n",
       "      <td>...</td>\n",
       "      <td>0</td>\n",
       "      <td>0</td>\n",
       "      <td>1</td>\n",
       "      <td>0</td>\n",
       "      <td>0</td>\n",
       "      <td>0.0</td>\n",
       "      <td>0</td>\n",
       "      <td>鳞癌</td>\n",
       "      <td>0.0</td>\n",
       "      <td>0.0</td>\n",
       "    </tr>\n",
       "    <tr>\n",
       "      <th>333</th>\n",
       "      <td>510017</td>\n",
       "      <td>戴浩权</td>\n",
       "      <td>M</td>\n",
       "      <td>73.0</td>\n",
       "      <td>1</td>\n",
       "      <td>RUL</td>\n",
       "      <td>类圆形</td>\n",
       "      <td>21.00</td>\n",
       "      <td>4.900</td>\n",
       "      <td>不清</td>\n",
       "      <td>...</td>\n",
       "      <td>0</td>\n",
       "      <td>0</td>\n",
       "      <td>1</td>\n",
       "      <td>T9转移</td>\n",
       "      <td>1</td>\n",
       "      <td>1.0</td>\n",
       "      <td>NaN</td>\n",
       "      <td>腺癌</td>\n",
       "      <td>0.0</td>\n",
       "      <td>0.0</td>\n",
       "    </tr>\n",
       "    <tr>\n",
       "      <th>334</th>\n",
       "      <td>510763</td>\n",
       "      <td>林南卿</td>\n",
       "      <td>F</td>\n",
       "      <td>73.0</td>\n",
       "      <td>0</td>\n",
       "      <td>LLL</td>\n",
       "      <td>类圆形</td>\n",
       "      <td>15.00</td>\n",
       "      <td>1.800</td>\n",
       "      <td>不清</td>\n",
       "      <td>...</td>\n",
       "      <td>0</td>\n",
       "      <td>0</td>\n",
       "      <td>1</td>\n",
       "      <td>0</td>\n",
       "      <td>1</td>\n",
       "      <td>1.0</td>\n",
       "      <td>NaN</td>\n",
       "      <td>腺癌</td>\n",
       "      <td>1.0</td>\n",
       "      <td>0.0</td>\n",
       "    </tr>\n",
       "    <tr>\n",
       "      <th>335</th>\n",
       "      <td>510998</td>\n",
       "      <td>李社桂</td>\n",
       "      <td>M</td>\n",
       "      <td>54.0</td>\n",
       "      <td>0</td>\n",
       "      <td>LUL</td>\n",
       "      <td>不规则</td>\n",
       "      <td>41.00</td>\n",
       "      <td>36.000</td>\n",
       "      <td>不清</td>\n",
       "      <td>...</td>\n",
       "      <td>0</td>\n",
       "      <td>0</td>\n",
       "      <td>0</td>\n",
       "      <td>0</td>\n",
       "      <td>1</td>\n",
       "      <td>1.0</td>\n",
       "      <td>NaN</td>\n",
       "      <td>腺癌</td>\n",
       "      <td>0.0</td>\n",
       "      <td>0.0</td>\n",
       "    </tr>\n",
       "    <tr>\n",
       "      <th>336</th>\n",
       "      <td>512031</td>\n",
       "      <td>周乃春</td>\n",
       "      <td>M</td>\n",
       "      <td>63.0</td>\n",
       "      <td>0</td>\n",
       "      <td>LLL</td>\n",
       "      <td>类圆形</td>\n",
       "      <td>13.00</td>\n",
       "      <td>1.100</td>\n",
       "      <td>尚清</td>\n",
       "      <td>...</td>\n",
       "      <td>0</td>\n",
       "      <td>0</td>\n",
       "      <td>0</td>\n",
       "      <td>0</td>\n",
       "      <td>0</td>\n",
       "      <td>0.0</td>\n",
       "      <td>NaN</td>\n",
       "      <td>腺癌</td>\n",
       "      <td>0.0</td>\n",
       "      <td>1.0</td>\n",
       "    </tr>\n",
       "    <tr>\n",
       "      <th>337</th>\n",
       "      <td>NaN</td>\n",
       "      <td>周乃春</td>\n",
       "      <td>M</td>\n",
       "      <td>63.0</td>\n",
       "      <td>0</td>\n",
       "      <td>RLL</td>\n",
       "      <td>类圆形</td>\n",
       "      <td>15.00</td>\n",
       "      <td>1.900</td>\n",
       "      <td>尚清</td>\n",
       "      <td>...</td>\n",
       "      <td>0</td>\n",
       "      <td>0</td>\n",
       "      <td>1</td>\n",
       "      <td>0</td>\n",
       "      <td>0</td>\n",
       "      <td>0.0</td>\n",
       "      <td>NaN</td>\n",
       "      <td>腺癌</td>\n",
       "      <td>0.0</td>\n",
       "      <td>0.0</td>\n",
       "    </tr>\n",
       "    <tr>\n",
       "      <th>338</th>\n",
       "      <td>512282</td>\n",
       "      <td>芦淑君</td>\n",
       "      <td>F</td>\n",
       "      <td>52.0</td>\n",
       "      <td>0</td>\n",
       "      <td>LLL</td>\n",
       "      <td>类圆形</td>\n",
       "      <td>10.00</td>\n",
       "      <td>5.000</td>\n",
       "      <td>不清</td>\n",
       "      <td>...</td>\n",
       "      <td>0</td>\n",
       "      <td>0</td>\n",
       "      <td>0</td>\n",
       "      <td>0</td>\n",
       "      <td>0</td>\n",
       "      <td>0.0</td>\n",
       "      <td>NaN</td>\n",
       "      <td>腺癌</td>\n",
       "      <td>0.0</td>\n",
       "      <td>0.0</td>\n",
       "    </tr>\n",
       "    <tr>\n",
       "      <th>339</th>\n",
       "      <td>512366</td>\n",
       "      <td>梁红瑛</td>\n",
       "      <td>F</td>\n",
       "      <td>51.0</td>\n",
       "      <td>0</td>\n",
       "      <td>LLL</td>\n",
       "      <td>类圆形</td>\n",
       "      <td>8.00</td>\n",
       "      <td>1.000</td>\n",
       "      <td>尚清</td>\n",
       "      <td>...</td>\n",
       "      <td>0</td>\n",
       "      <td>0</td>\n",
       "      <td>0</td>\n",
       "      <td>0</td>\n",
       "      <td>0</td>\n",
       "      <td>0.0</td>\n",
       "      <td>NaN</td>\n",
       "      <td>腺癌</td>\n",
       "      <td>1.0</td>\n",
       "      <td>0.0</td>\n",
       "    </tr>\n",
       "    <tr>\n",
       "      <th>340</th>\n",
       "      <td>512533</td>\n",
       "      <td>马小宝</td>\n",
       "      <td>F</td>\n",
       "      <td>57.0</td>\n",
       "      <td>0</td>\n",
       "      <td>RUL</td>\n",
       "      <td>类圆形</td>\n",
       "      <td>7.00</td>\n",
       "      <td>0.800</td>\n",
       "      <td>模糊</td>\n",
       "      <td>...</td>\n",
       "      <td>0</td>\n",
       "      <td>0</td>\n",
       "      <td>0</td>\n",
       "      <td>0</td>\n",
       "      <td>0</td>\n",
       "      <td>0.0</td>\n",
       "      <td>NaN</td>\n",
       "      <td>腺癌</td>\n",
       "      <td>0.0</td>\n",
       "      <td>0.0</td>\n",
       "    </tr>\n",
       "    <tr>\n",
       "      <th>341</th>\n",
       "      <td>512647</td>\n",
       "      <td>李世别</td>\n",
       "      <td>M</td>\n",
       "      <td>71.0</td>\n",
       "      <td>1</td>\n",
       "      <td>LUL</td>\n",
       "      <td>团片状</td>\n",
       "      <td>23.00</td>\n",
       "      <td>9.000</td>\n",
       "      <td>不清</td>\n",
       "      <td>...</td>\n",
       "      <td>0</td>\n",
       "      <td>0</td>\n",
       "      <td>1</td>\n",
       "      <td>0</td>\n",
       "      <td>1</td>\n",
       "      <td>1.0</td>\n",
       "      <td>NaN</td>\n",
       "      <td>鳞癌</td>\n",
       "      <td>0.0</td>\n",
       "      <td>0.0</td>\n",
       "    </tr>\n",
       "    <tr>\n",
       "      <th>342</th>\n",
       "      <td>513516</td>\n",
       "      <td>朱东芳</td>\n",
       "      <td>F</td>\n",
       "      <td>44.0</td>\n",
       "      <td>0</td>\n",
       "      <td>RUL</td>\n",
       "      <td>类圆形</td>\n",
       "      <td>5.00</td>\n",
       "      <td>0.500</td>\n",
       "      <td>模糊</td>\n",
       "      <td>...</td>\n",
       "      <td>0</td>\n",
       "      <td>0</td>\n",
       "      <td>0</td>\n",
       "      <td>0</td>\n",
       "      <td>0</td>\n",
       "      <td>0.0</td>\n",
       "      <td>NaN</td>\n",
       "      <td>腺癌</td>\n",
       "      <td>0.0</td>\n",
       "      <td>1.0</td>\n",
       "    </tr>\n",
       "    <tr>\n",
       "      <th>343</th>\n",
       "      <td>514872</td>\n",
       "      <td>刘成顺</td>\n",
       "      <td>M</td>\n",
       "      <td>71.0</td>\n",
       "      <td>0</td>\n",
       "      <td>LUL</td>\n",
       "      <td>团片状</td>\n",
       "      <td>50.00</td>\n",
       "      <td>18.000</td>\n",
       "      <td>模糊</td>\n",
       "      <td>...</td>\n",
       "      <td>0</td>\n",
       "      <td>0</td>\n",
       "      <td>1</td>\n",
       "      <td>0</td>\n",
       "      <td>0</td>\n",
       "      <td>0.0</td>\n",
       "      <td>NaN</td>\n",
       "      <td>鳞癌</td>\n",
       "      <td>0.0</td>\n",
       "      <td>0.0</td>\n",
       "    </tr>\n",
       "    <tr>\n",
       "      <th>344</th>\n",
       "      <td>516174</td>\n",
       "      <td>苏雪萍</td>\n",
       "      <td>F</td>\n",
       "      <td>69.0</td>\n",
       "      <td>0</td>\n",
       "      <td>LUL</td>\n",
       "      <td>类圆形</td>\n",
       "      <td>21.00</td>\n",
       "      <td>8.000</td>\n",
       "      <td>模糊</td>\n",
       "      <td>...</td>\n",
       "      <td>0</td>\n",
       "      <td>0</td>\n",
       "      <td>1</td>\n",
       "      <td>0</td>\n",
       "      <td>0</td>\n",
       "      <td>1.0</td>\n",
       "      <td>1</td>\n",
       "      <td>腺癌</td>\n",
       "      <td>0.0</td>\n",
       "      <td>1.0</td>\n",
       "    </tr>\n",
       "    <tr>\n",
       "      <th>345</th>\n",
       "      <td>516831</td>\n",
       "      <td>欧盛超</td>\n",
       "      <td>M</td>\n",
       "      <td>79.0</td>\n",
       "      <td>0</td>\n",
       "      <td>RLL</td>\n",
       "      <td>类圆形</td>\n",
       "      <td>22.00</td>\n",
       "      <td>6.000</td>\n",
       "      <td>模糊</td>\n",
       "      <td>...</td>\n",
       "      <td>0</td>\n",
       "      <td>0</td>\n",
       "      <td>1</td>\n",
       "      <td>胸膜转移</td>\n",
       "      <td>1</td>\n",
       "      <td>1.0</td>\n",
       "      <td>1</td>\n",
       "      <td>腺癌</td>\n",
       "      <td>0.0</td>\n",
       "      <td>0.0</td>\n",
       "    </tr>\n",
       "    <tr>\n",
       "      <th>346</th>\n",
       "      <td>518477</td>\n",
       "      <td>尹才友</td>\n",
       "      <td>M</td>\n",
       "      <td>62.0</td>\n",
       "      <td>1</td>\n",
       "      <td>LLL</td>\n",
       "      <td>类圆形</td>\n",
       "      <td>23.00</td>\n",
       "      <td>7.000</td>\n",
       "      <td>模糊</td>\n",
       "      <td>...</td>\n",
       "      <td>0</td>\n",
       "      <td>0</td>\n",
       "      <td>0</td>\n",
       "      <td>骨、脑、盆腔转移</td>\n",
       "      <td>1</td>\n",
       "      <td>1.0</td>\n",
       "      <td>2</td>\n",
       "      <td>腺癌</td>\n",
       "      <td>0.0</td>\n",
       "      <td>1.0</td>\n",
       "    </tr>\n",
       "    <tr>\n",
       "      <th>347</th>\n",
       "      <td>518972</td>\n",
       "      <td>钟秀兰</td>\n",
       "      <td>F</td>\n",
       "      <td>62.0</td>\n",
       "      <td>0</td>\n",
       "      <td>LLL</td>\n",
       "      <td>类圆形</td>\n",
       "      <td>10.00</td>\n",
       "      <td>0.500</td>\n",
       "      <td>模糊</td>\n",
       "      <td>...</td>\n",
       "      <td>0</td>\n",
       "      <td>0</td>\n",
       "      <td>0</td>\n",
       "      <td>第6肋骨</td>\n",
       "      <td>0</td>\n",
       "      <td>1.0</td>\n",
       "      <td>NaN</td>\n",
       "      <td>腺癌</td>\n",
       "      <td>0.0</td>\n",
       "      <td>0.0</td>\n",
       "    </tr>\n",
       "    <tr>\n",
       "      <th>348</th>\n",
       "      <td>518982</td>\n",
       "      <td>陈立亨</td>\n",
       "      <td>M</td>\n",
       "      <td>80.0</td>\n",
       "      <td>0</td>\n",
       "      <td>RML</td>\n",
       "      <td>团片状</td>\n",
       "      <td>23.60</td>\n",
       "      <td>7.000</td>\n",
       "      <td>模糊</td>\n",
       "      <td>...</td>\n",
       "      <td>0</td>\n",
       "      <td>0</td>\n",
       "      <td>1</td>\n",
       "      <td>0</td>\n",
       "      <td>0</td>\n",
       "      <td>0.0</td>\n",
       "      <td>2</td>\n",
       "      <td>腺癌</td>\n",
       "      <td>0.0</td>\n",
       "      <td>0.0</td>\n",
       "    </tr>\n",
       "    <tr>\n",
       "      <th>349</th>\n",
       "      <td>519289</td>\n",
       "      <td>郑千会</td>\n",
       "      <td>M</td>\n",
       "      <td>45.0</td>\n",
       "      <td>1</td>\n",
       "      <td>RUL</td>\n",
       "      <td>类圆形</td>\n",
       "      <td>24.00</td>\n",
       "      <td>7.600</td>\n",
       "      <td>尚清</td>\n",
       "      <td>...</td>\n",
       "      <td>0</td>\n",
       "      <td>0</td>\n",
       "      <td>0</td>\n",
       "      <td>胸膜转移</td>\n",
       "      <td>0</td>\n",
       "      <td>0.0</td>\n",
       "      <td>1</td>\n",
       "      <td>腺癌</td>\n",
       "      <td>1.0</td>\n",
       "      <td>0.0</td>\n",
       "    </tr>\n",
       "    <tr>\n",
       "      <th>350</th>\n",
       "      <td>519504</td>\n",
       "      <td>徐辉凤</td>\n",
       "      <td>F</td>\n",
       "      <td>65.0</td>\n",
       "      <td>0</td>\n",
       "      <td>RML</td>\n",
       "      <td>类圆形</td>\n",
       "      <td>24.00</td>\n",
       "      <td>7.500</td>\n",
       "      <td>模糊</td>\n",
       "      <td>...</td>\n",
       "      <td>0</td>\n",
       "      <td>0</td>\n",
       "      <td>1</td>\n",
       "      <td>0</td>\n",
       "      <td>0</td>\n",
       "      <td>0.0</td>\n",
       "      <td>3</td>\n",
       "      <td>腺癌</td>\n",
       "      <td>0.0</td>\n",
       "      <td>0.0</td>\n",
       "    </tr>\n",
       "    <tr>\n",
       "      <th>351</th>\n",
       "      <td>513886</td>\n",
       "      <td>肖时半</td>\n",
       "      <td>M</td>\n",
       "      <td>59.0</td>\n",
       "      <td>1</td>\n",
       "      <td>RML</td>\n",
       "      <td>类圆形</td>\n",
       "      <td>30.00</td>\n",
       "      <td>6.000</td>\n",
       "      <td>尚清</td>\n",
       "      <td>...</td>\n",
       "      <td>0</td>\n",
       "      <td>0</td>\n",
       "      <td>0</td>\n",
       "      <td>0</td>\n",
       "      <td>1</td>\n",
       "      <td>1.0</td>\n",
       "      <td>1</td>\n",
       "      <td>鳞癌</td>\n",
       "      <td>0.0</td>\n",
       "      <td>0.0</td>\n",
       "    </tr>\n",
       "    <tr>\n",
       "      <th>352</th>\n",
       "      <td>649547</td>\n",
       "      <td>尹细兰</td>\n",
       "      <td>F</td>\n",
       "      <td>47.0</td>\n",
       "      <td>0</td>\n",
       "      <td>LUL</td>\n",
       "      <td>类圆形</td>\n",
       "      <td>10.00</td>\n",
       "      <td>0.500</td>\n",
       "      <td>模糊</td>\n",
       "      <td>...</td>\n",
       "      <td>0</td>\n",
       "      <td>0</td>\n",
       "      <td>0</td>\n",
       "      <td>0</td>\n",
       "      <td>0</td>\n",
       "      <td>0.0</td>\n",
       "      <td>NaN</td>\n",
       "      <td>腺癌</td>\n",
       "      <td>0.0</td>\n",
       "      <td>0.0</td>\n",
       "    </tr>\n",
       "    <tr>\n",
       "      <th>353</th>\n",
       "      <td>651627</td>\n",
       "      <td>向代荣</td>\n",
       "      <td>F</td>\n",
       "      <td>57.0</td>\n",
       "      <td>0</td>\n",
       "      <td>LLL</td>\n",
       "      <td>类圆形</td>\n",
       "      <td>19.00</td>\n",
       "      <td>10.000</td>\n",
       "      <td>模糊</td>\n",
       "      <td>...</td>\n",
       "      <td>0</td>\n",
       "      <td>0</td>\n",
       "      <td>0</td>\n",
       "      <td>0</td>\n",
       "      <td>0</td>\n",
       "      <td>1.0</td>\n",
       "      <td>3</td>\n",
       "      <td>鳞癌</td>\n",
       "      <td>0.0</td>\n",
       "      <td>0.0</td>\n",
       "    </tr>\n",
       "    <tr>\n",
       "      <th>354</th>\n",
       "      <td>649208</td>\n",
       "      <td>张学智</td>\n",
       "      <td>M</td>\n",
       "      <td>66.0</td>\n",
       "      <td>0</td>\n",
       "      <td>RLL</td>\n",
       "      <td>类圆形</td>\n",
       "      <td>17.80</td>\n",
       "      <td>2.900</td>\n",
       "      <td>不清</td>\n",
       "      <td>...</td>\n",
       "      <td>0</td>\n",
       "      <td>1</td>\n",
       "      <td>1</td>\n",
       "      <td>0</td>\n",
       "      <td>1</td>\n",
       "      <td>0.0</td>\n",
       "      <td>2</td>\n",
       "      <td>鳞癌</td>\n",
       "      <td>0.0</td>\n",
       "      <td>0.0</td>\n",
       "    </tr>\n",
       "    <tr>\n",
       "      <th>355</th>\n",
       "      <td>648703</td>\n",
       "      <td>刘志嫦</td>\n",
       "      <td>F</td>\n",
       "      <td>43.0</td>\n",
       "      <td>0</td>\n",
       "      <td>LUL</td>\n",
       "      <td>类圆形</td>\n",
       "      <td>11.50</td>\n",
       "      <td>0.800</td>\n",
       "      <td>尚清</td>\n",
       "      <td>...</td>\n",
       "      <td>0</td>\n",
       "      <td>0</td>\n",
       "      <td>0</td>\n",
       "      <td>0</td>\n",
       "      <td>0</td>\n",
       "      <td>0.0</td>\n",
       "      <td>NaN</td>\n",
       "      <td>腺癌</td>\n",
       "      <td>NaN</td>\n",
       "      <td>NaN</td>\n",
       "    </tr>\n",
       "    <tr>\n",
       "      <th>356</th>\n",
       "      <td>647538</td>\n",
       "      <td>朱跃荣</td>\n",
       "      <td>M</td>\n",
       "      <td>55.0</td>\n",
       "      <td>0</td>\n",
       "      <td>RUL</td>\n",
       "      <td>不规则</td>\n",
       "      <td>11.00</td>\n",
       "      <td>0.700</td>\n",
       "      <td>不清</td>\n",
       "      <td>...</td>\n",
       "      <td>0</td>\n",
       "      <td>0</td>\n",
       "      <td>0</td>\n",
       "      <td>0</td>\n",
       "      <td>0</td>\n",
       "      <td>0.0</td>\n",
       "      <td>NaN</td>\n",
       "      <td>腺癌</td>\n",
       "      <td>1.0</td>\n",
       "      <td>0.0</td>\n",
       "    </tr>\n",
       "    <tr>\n",
       "      <th>357</th>\n",
       "      <td>646804</td>\n",
       "      <td>袁锡昭</td>\n",
       "      <td>M</td>\n",
       "      <td>52.0</td>\n",
       "      <td>1</td>\n",
       "      <td>RUL</td>\n",
       "      <td>类圆形</td>\n",
       "      <td>13.00</td>\n",
       "      <td>1.200</td>\n",
       "      <td>不清</td>\n",
       "      <td>...</td>\n",
       "      <td>0</td>\n",
       "      <td>1</td>\n",
       "      <td>0</td>\n",
       "      <td>0</td>\n",
       "      <td>0</td>\n",
       "      <td>0.0</td>\n",
       "      <td>—</td>\n",
       "      <td>腺癌</td>\n",
       "      <td>NaN</td>\n",
       "      <td>NaN</td>\n",
       "    </tr>\n",
       "    <tr>\n",
       "      <th>358</th>\n",
       "      <td>646719</td>\n",
       "      <td>黄银端</td>\n",
       "      <td>F</td>\n",
       "      <td>51.0</td>\n",
       "      <td>0</td>\n",
       "      <td>LUL</td>\n",
       "      <td>类圆形</td>\n",
       "      <td>17.00</td>\n",
       "      <td>2.700</td>\n",
       "      <td>模糊</td>\n",
       "      <td>...</td>\n",
       "      <td>0</td>\n",
       "      <td>0</td>\n",
       "      <td>0</td>\n",
       "      <td>0</td>\n",
       "      <td>0</td>\n",
       "      <td>0.0</td>\n",
       "      <td>1</td>\n",
       "      <td>腺癌</td>\n",
       "      <td>0.0</td>\n",
       "      <td>0.0</td>\n",
       "    </tr>\n",
       "    <tr>\n",
       "      <th>359</th>\n",
       "      <td>645622</td>\n",
       "      <td>邓秀英</td>\n",
       "      <td>f</td>\n",
       "      <td>59.0</td>\n",
       "      <td>0</td>\n",
       "      <td>RUL</td>\n",
       "      <td>类圆形</td>\n",
       "      <td>12.00</td>\n",
       "      <td>0.800</td>\n",
       "      <td>模糊</td>\n",
       "      <td>...</td>\n",
       "      <td>0</td>\n",
       "      <td>0</td>\n",
       "      <td>1</td>\n",
       "      <td>0</td>\n",
       "      <td>0</td>\n",
       "      <td>0.0</td>\n",
       "      <td>NaN</td>\n",
       "      <td>腺癌</td>\n",
       "      <td>0.0</td>\n",
       "      <td>1.0</td>\n",
       "    </tr>\n",
       "  </tbody>\n",
       "</table>\n",
       "<p>360 rows × 32 columns</p>\n",
       "</div>"
      ],
      "text/plain": [
       "    CTnumber name gender   age smoker   部位   形状  肿瘤最大径（mm）  肿瘤体积（cm³）  边缘  \\\n",
       "0     170579  曾亲弟      F  79.0      0  LUL  类圆形      23.33      3.847   1   \n",
       "1     233046  黄建敬      M  76.0      1  RML  团片状      53.54     28.752   1   \n",
       "2     283324  何明秀      F  59.0      1  RLL  类圆形      27.41      3.513   1   \n",
       "3     378550  王学兰      F  85.0      0  RUL  类圆形      61.33     24.173   1   \n",
       "4     385828  陈雪清      F  76.0      0  LUL  类圆形      18.12      2.168   1   \n",
       "5     406957  沈友书      F  80.0      0  RLL  类圆形      33.82      7.743   1   \n",
       "6     411365  陈耀才      M  82.0      0  LLL  类圆形      36.77     15.483   1   \n",
       "7     424813  秦文安      M  47.0      0  LUL  类圆形      35.24     11.138   1   \n",
       "8     425769  曾伟英      F  61.0      0  LUL  类圆形      15.18      0.963   0   \n",
       "9     427486  聂振高      M  40.0      1  LUL  类圆形      33.02     11.171   1   \n",
       "10    432425  罗日湘      M  63.0      0  LUL  类圆形      11.72      0.445   1   \n",
       "11    432771   黎云      F  43.0      0  LLL  类圆形      35.58      6.375   1   \n",
       "12    434016  杨爱花      F  51.0      0  LUL  类圆形      17.21      2.252   1   \n",
       "13    436020  文善齐      M  67.0      0  LLL  类圆形      26.62      6.177   1   \n",
       "14    436290  曾嘉彪      M  52.0      1  RLL  类圆形      24.96      4.184   0   \n",
       "15    436419  陈菊香      F  66.0      0  RML  类圆形      22.83      4.457   1   \n",
       "16    436580  朱玲辉      F  57.0      0  RUL  类圆形      10.19      0.438   1   \n",
       "17    436595  章翠兰      F  65.0      0  LLL  团片状      23.57      2.855   1   \n",
       "18    437990  杨己连      F  64.0      0  RUL  类圆形      53.81     43.277   1   \n",
       "19    438482  陈月贞      F  56.0      0  RML  类圆形      28.96      4.494   1   \n",
       "20    440945  潘小英      F  53.0      0  LLL  团片状      26.48      3.000   1   \n",
       "21    442605  聂建民      M  54.0      0  RUL  类圆形      42.23     14.835   1   \n",
       "22    442874   唐匡      M  78.0      1  LLL  团片状      53.20     47.370   1   \n",
       "23    443648  张传明      F  67.0      0  RML  类圆形      40.90     13.801   1   \n",
       "24    443843  赖大彬      M  61.0      0  RUL  类圆形      35.32      7.989   1   \n",
       "25    445103   徐勇      M  35.0      0  LUL  类圆形      23.35      4.677   1   \n",
       "26    445337  周炳森      M  59.0      0  LUL  类圆形      42.84     22.975   1   \n",
       "27    446285  王德钦      M  74.0      0  LLL  类圆形      20.26      1.590   1   \n",
       "28    446439  于淑文      F  71.0      0  LLL  类圆形      18.73      1.276   1   \n",
       "29    446492  张玉林      M  73.0      1  LLL  类圆形      21.12      2.637   1   \n",
       "..       ...  ...    ...   ...    ...  ...  ...        ...        ...  ..   \n",
       "330   509083  王玉兰      F  80.0      0  RML  类圆形      22.00      5.800  不清   \n",
       "331   509096  朱致钢      M  55.0      1  RUL  团片状      22.00      5.700  尚清   \n",
       "332   509100  韩玉阁      M  65.0      1  RUL  斑片状      45.00     48.000  不清   \n",
       "333   510017  戴浩权      M  73.0      1  RUL  类圆形      21.00      4.900  不清   \n",
       "334   510763  林南卿      F  73.0      0  LLL  类圆形      15.00      1.800  不清   \n",
       "335   510998  李社桂      M  54.0      0  LUL  不规则      41.00     36.000  不清   \n",
       "336   512031  周乃春      M  63.0      0  LLL  类圆形      13.00      1.100  尚清   \n",
       "337      NaN  周乃春      M  63.0      0  RLL  类圆形      15.00      1.900  尚清   \n",
       "338   512282  芦淑君      F  52.0      0  LLL  类圆形      10.00      5.000  不清   \n",
       "339   512366  梁红瑛      F  51.0      0  LLL  类圆形       8.00      1.000  尚清   \n",
       "340   512533  马小宝      F  57.0      0  RUL  类圆形       7.00      0.800  模糊   \n",
       "341   512647  李世别      M  71.0      1  LUL  团片状      23.00      9.000  不清   \n",
       "342   513516  朱东芳      F  44.0      0  RUL  类圆形       5.00      0.500  模糊   \n",
       "343   514872  刘成顺      M  71.0      0  LUL  团片状      50.00     18.000  模糊   \n",
       "344   516174  苏雪萍      F  69.0      0  LUL  类圆形      21.00      8.000  模糊   \n",
       "345   516831  欧盛超      M  79.0      0  RLL  类圆形      22.00      6.000  模糊   \n",
       "346   518477  尹才友      M  62.0      1  LLL  类圆形      23.00      7.000  模糊   \n",
       "347   518972  钟秀兰      F  62.0      0  LLL  类圆形      10.00      0.500  模糊   \n",
       "348   518982  陈立亨      M  80.0      0  RML  团片状      23.60      7.000  模糊   \n",
       "349   519289  郑千会      M  45.0      1  RUL  类圆形      24.00      7.600  尚清   \n",
       "350   519504  徐辉凤      F  65.0      0  RML  类圆形      24.00      7.500  模糊   \n",
       "351   513886  肖时半      M  59.0      1  RML  类圆形      30.00      6.000  尚清   \n",
       "352   649547  尹细兰      F  47.0      0  LUL  类圆形      10.00      0.500  模糊   \n",
       "353   651627  向代荣      F  57.0      0  LLL  类圆形      19.00     10.000  模糊   \n",
       "354   649208  张学智      M  66.0      0  RLL  类圆形      17.80      2.900  不清   \n",
       "355   648703  刘志嫦      F  43.0      0  LUL  类圆形      11.50      0.800  尚清   \n",
       "356   647538  朱跃荣      M  55.0      0  RUL  不规则      11.00      0.700  不清   \n",
       "357   646804  袁锡昭      M  52.0      1  RUL  类圆形      13.00      1.200  不清   \n",
       "358   646719  黄银端      F  51.0      0  LUL  类圆形      17.00      2.700  模糊   \n",
       "359   645622  邓秀英      f  59.0      0  RUL  类圆形      12.00      0.800  模糊   \n",
       "\n",
       "    ...   钙化  肺气肿  纤维化      转移情况  肺门淋巴结肿大  纵隔淋巴结肿大  增强幅度  病理  19号  21号  \n",
       "0   ...    0    0    1         0        0      1.0     1  腺癌  0.0  1.0  \n",
       "1   ...    0    0    1         0        0      0.0     2  腺癌  0.0  0.0  \n",
       "2   ...    0    0    0         0        0      0.0     2  腺癌  0.0  1.0  \n",
       "3   ...    0    0    1         0        0      1.0   NaN  腺癌  0.0  1.0  \n",
       "4   ...    0    0    1         0        1      1.0   NaN  腺癌  1.0  0.0  \n",
       "5   ...    0    0    1         0        1      0.0     1  腺癌  0.0  0.0  \n",
       "6   ...    0    0    1         0        0      1.0     1  腺癌  0.0  0.0  \n",
       "7   ...    0    0    0         0        0      0.0   NaN  腺癌  1.0  0.0  \n",
       "8   ...    0    0    0         0        0      0.0   NaN  腺癌  0.0  1.0  \n",
       "9   ...    0    0    0         1        0      0.0     3  腺癌  0.0  0.0  \n",
       "10  ...    0    0    0         0        0      0.0     3  腺癌  0.0  0.0  \n",
       "11  ...    0    0    0         0        0      1.0     3  腺癌  1.0  0.0  \n",
       "12  ...    0    0    0         0        0      0.0   NaN  腺癌  1.0  0.0  \n",
       "13  ...    0    0    1         0        0      1.0     2  腺癌  0.0  0.0  \n",
       "14  ...    0    0    0         1        0      0.0   NaN  腺癌  0.0  1.0  \n",
       "15  ...    0    0    1         1        0      1.0     3  腺癌  0.0  1.0  \n",
       "16  ...    0    0    0         0        0      0.0     0  腺癌  0.0  1.0  \n",
       "17  ...    0    0    1         1        1      1.0     3  鳞癌  0.0  0.0  \n",
       "18  ...    0    0    1         1        0      1.0     2  腺癌  1.0  0.0  \n",
       "19  ...    0    0    1         1        1      1.0     2  腺癌  1.0  0.0  \n",
       "20  ...    0    0    1         1        1      1.0     1  腺癌  1.0  0.0  \n",
       "21  ...    0    0    0         1        0      0.0   NaN  腺癌  0.0  1.0  \n",
       "22  ...    1    0    1         1        1      1.0     3  腺癌  0.0  0.0  \n",
       "23  ...    0    0    0         0        0      0.0     2  腺癌  0.0  0.0  \n",
       "24  ...    0    0    0         0        0      1.0   NaN  腺癌  0.0  1.0  \n",
       "25  ...    0    0    0         1        0      0.0     2  腺癌  1.0  0.0  \n",
       "26  ...    0    0    1         1        0      1.0     3  腺癌  1.0  0.0  \n",
       "27  ...    0    0    1         0        0      0.0   NaN  腺癌  0.0  0.0  \n",
       "28  ...    0    0    0         0        0      1.0   NaN  腺癌  0.0  1.0  \n",
       "29  ...    0    0    0         1        0      1.0     1  鳞癌  0.0  0.0  \n",
       "..  ...   ..  ...  ...       ...      ...      ...   ...  ..  ...  ...  \n",
       "330 ...    0    0    1         0        0      0.0   NaN  腺癌  0.0  1.0  \n",
       "331 ...    0    1    1         0        1      1.0   NaN  腺癌  0.0  0.0  \n",
       "332 ...    0    0    1         0        0      0.0     0  鳞癌  0.0  0.0  \n",
       "333 ...    0    0    1      T9转移        1      1.0   NaN  腺癌  0.0  0.0  \n",
       "334 ...    0    0    1         0        1      1.0   NaN  腺癌  1.0  0.0  \n",
       "335 ...    0    0    0         0        1      1.0   NaN  腺癌  0.0  0.0  \n",
       "336 ...    0    0    0         0        0      0.0   NaN  腺癌  0.0  1.0  \n",
       "337 ...    0    0    1         0        0      0.0   NaN  腺癌  0.0  0.0  \n",
       "338 ...    0    0    0         0        0      0.0   NaN  腺癌  0.0  0.0  \n",
       "339 ...    0    0    0         0        0      0.0   NaN  腺癌  1.0  0.0  \n",
       "340 ...    0    0    0         0        0      0.0   NaN  腺癌  0.0  0.0  \n",
       "341 ...    0    0    1         0        1      1.0   NaN  鳞癌  0.0  0.0  \n",
       "342 ...    0    0    0         0        0      0.0   NaN  腺癌  0.0  1.0  \n",
       "343 ...    0    0    1         0        0      0.0   NaN  鳞癌  0.0  0.0  \n",
       "344 ...    0    0    1         0        0      1.0     1  腺癌  0.0  1.0  \n",
       "345 ...    0    0    1      胸膜转移        1      1.0     1  腺癌  0.0  0.0  \n",
       "346 ...    0    0    0  骨、脑、盆腔转移        1      1.0     2  腺癌  0.0  1.0  \n",
       "347 ...    0    0    0      第6肋骨        0      1.0   NaN  腺癌  0.0  0.0  \n",
       "348 ...    0    0    1         0        0      0.0     2  腺癌  0.0  0.0  \n",
       "349 ...    0    0    0      胸膜转移        0      0.0     1  腺癌  1.0  0.0  \n",
       "350 ...    0    0    1         0        0      0.0     3  腺癌  0.0  0.0  \n",
       "351 ...    0    0    0         0        1      1.0     1  鳞癌  0.0  0.0  \n",
       "352 ...    0    0    0         0        0      0.0   NaN  腺癌  0.0  0.0  \n",
       "353 ...    0    0    0         0        0      1.0     3  鳞癌  0.0  0.0  \n",
       "354 ...    0    1    1         0        1      0.0     2  鳞癌  0.0  0.0  \n",
       "355 ...    0    0    0         0        0      0.0   NaN  腺癌  NaN  NaN  \n",
       "356 ...    0    0    0         0        0      0.0   NaN  腺癌  1.0  0.0  \n",
       "357 ...    0    1    0         0        0      0.0     —  腺癌  NaN  NaN  \n",
       "358 ...    0    0    0         0        0      0.0     1  腺癌  0.0  0.0  \n",
       "359 ...    0    0    1         0        0      0.0   NaN  腺癌  0.0  1.0  \n",
       "\n",
       "[360 rows x 32 columns]"
      ]
     },
     "execution_count": 15,
     "metadata": {},
     "output_type": "execute_result"
    }
   ],
   "source": [
    "CT"
   ]
  },
  {
   "cell_type": "code",
   "execution_count": 16,
   "metadata": {
    "collapsed": true
   },
   "outputs": [],
   "source": [
    "CT.loc[CT[\"边缘\"]==\"模糊\",\"边缘\"]=0\n",
    "CT.loc[CT[\"边缘\"]==\"光整\",\"边缘\"]=1\n",
    "CT.loc[CT['边缘']=='尚光整','边缘']=1\n",
    "CT.loc[CT[\"边缘\"]==\"尚清\",\"边缘\"]=1\n",
    "CT.loc[CT[\"边缘\"]==\"不清\",\"边缘\"]=0\n",
    "CT.loc[CT[\"边缘\"]==\"清晰\",\"边缘\"]=1\n",
    "CT.loc[CT[\"边缘\"]==\"尚请\",\"边缘\"]=1\n",
    "CT.loc[CT[\"边缘\"]==\"模糊00\",\"边缘\"]=0\n",
    "CT.loc[CT[\"边缘\"]==\"毛糙\",\"边缘\"]=0"
   ]
  },
  {
   "cell_type": "code",
   "execution_count": 17,
   "metadata": {},
   "outputs": [
    {
     "data": {
      "text/plain": [
       "array([0, 1])"
      ]
     },
     "execution_count": 17,
     "metadata": {},
     "output_type": "execute_result"
    }
   ],
   "source": [
    "CT[\"分叶征\"].unique()"
   ]
  },
  {
   "cell_type": "code",
   "execution_count": 18,
   "metadata": {
    "collapsed": true
   },
   "outputs": [],
   "source": [
    "CT.drop(\"肿瘤体积（cm³）\",axis=1,inplace=True)\n",
    "CT.drop(\"增强幅度\",axis=1,inplace=True)"
   ]
  },
  {
   "cell_type": "code",
   "execution_count": 19,
   "metadata": {
    "collapsed": true
   },
   "outputs": [],
   "source": [
    "CT.loc[CT[\"gender\"]==\"F\",\"gender\"]= 1\n",
    "CT.loc[CT[\"gender\"]==\"f\",\"gender\"]= 1\n",
    "CT.loc[CT[\"gender\"]==\"M\",\"gender\"]= 0"
   ]
  },
  {
   "cell_type": "code",
   "execution_count": 20,
   "metadata": {},
   "outputs": [
    {
     "data": {
      "text/plain": [
       "array([1, 0], dtype=object)"
      ]
     },
     "execution_count": 20,
     "metadata": {},
     "output_type": "execute_result"
    }
   ],
   "source": [
    "CT['gender'].unique()"
   ]
  },
  {
   "cell_type": "code",
   "execution_count": 21,
   "metadata": {
    "collapsed": true
   },
   "outputs": [],
   "source": [
    "CT.loc[CT[\"转移情况\"]!=0,\"转移情况\"]=1"
   ]
  },
  {
   "cell_type": "code",
   "execution_count": 22,
   "metadata": {},
   "outputs": [
    {
     "data": {
      "text/plain": [
       "array([0, 1], dtype=object)"
      ]
     },
     "execution_count": 22,
     "metadata": {},
     "output_type": "execute_result"
    }
   ],
   "source": [
    "CT[\"转移情况\"].unique()"
   ]
  },
  {
   "cell_type": "code",
   "execution_count": 23,
   "metadata": {
    "collapsed": true
   },
   "outputs": [],
   "source": [
    "CT.loc[CT[\"smoker\"]==\"F\",\"smoker\"]=0\n",
    "CT.loc[CT['smoker']==3,'smoker']=1"
   ]
  },
  {
   "cell_type": "code",
   "execution_count": 24,
   "metadata": {},
   "outputs": [
    {
     "data": {
      "text/plain": [
       "array([0, 1], dtype=object)"
      ]
     },
     "execution_count": 24,
     "metadata": {},
     "output_type": "execute_result"
    }
   ],
   "source": [
    "CT['smoker'].unique()"
   ]
  },
  {
   "cell_type": "code",
   "execution_count": 25,
   "metadata": {
    "collapsed": true
   },
   "outputs": [],
   "source": [
    "CT.loc[CT[\"磨玻璃影\"]==2,\"磨玻璃影\"]=1"
   ]
  },
  {
   "cell_type": "code",
   "execution_count": 26,
   "metadata": {},
   "outputs": [
    {
     "data": {
      "text/plain": [
       "array([0, 1])"
      ]
     },
     "execution_count": 26,
     "metadata": {},
     "output_type": "execute_result"
    }
   ],
   "source": [
    "CT[\"磨玻璃影\"].unique()"
   ]
  },
  {
   "cell_type": "code",
   "execution_count": 27,
   "metadata": {},
   "outputs": [
    {
     "data": {
      "text/plain": [
       "array([ 0,  1, 11])"
      ]
     },
     "execution_count": 27,
     "metadata": {},
     "output_type": "execute_result"
    }
   ],
   "source": [
    "CT['空泡'].unique()"
   ]
  },
  {
   "cell_type": "code",
   "execution_count": 28,
   "metadata": {
    "collapsed": true
   },
   "outputs": [],
   "source": [
    "CT.loc[CT['空泡']==11]=1"
   ]
  },
  {
   "cell_type": "markdown",
   "metadata": {},
   "source": [
    "<font color='blue'>\n",
    "Find if there are missing values in the dataset\n",
    "</font>"
   ]
  },
  {
   "cell_type": "code",
   "execution_count": 29,
   "metadata": {},
   "outputs": [
    {
     "data": {
      "text/plain": [
       "CTnumber     1\n",
       "name         0\n",
       "gender       0\n",
       "age          1\n",
       "smoker       0\n",
       "部位           0\n",
       "形状           0\n",
       "肿瘤最大径（mm）    0\n",
       "边缘           0\n",
       "分叶征          0\n",
       "毛刺征          0\n",
       "磨玻璃影         0\n",
       "密度           0\n",
       "空泡           0\n",
       "空洞           0\n",
       "空气支气管征       0\n",
       "胸膜增厚         0\n",
       "肿瘤坏死         1\n",
       "卫星结节         2\n",
       "结节           2\n",
       "胸膜凹陷征        1\n",
       "钙化           0\n",
       "肺气肿          0\n",
       "纤维化          0\n",
       "转移情况         0\n",
       "肺门淋巴结肿大      0\n",
       "纵隔淋巴结肿大      1\n",
       "病理           0\n",
       "19号          2\n",
       "21号          2\n",
       "dtype: int64"
      ]
     },
     "execution_count": 29,
     "metadata": {},
     "output_type": "execute_result"
    }
   ],
   "source": [
    "CT.isnull().sum()"
   ]
  },
  {
   "cell_type": "markdown",
   "metadata": {},
   "source": [
    "<font color='blue'>\n",
    "Fill age with mean and others with 0.\n",
    "<font/>"
   ]
  },
  {
   "cell_type": "code",
   "execution_count": 30,
   "metadata": {
    "collapsed": true
   },
   "outputs": [],
   "source": [
    "CT.loc[:,'age']=CT.loc[:,'age'].fillna(60.66)"
   ]
  },
  {
   "cell_type": "code",
   "execution_count": 31,
   "metadata": {
    "collapsed": true
   },
   "outputs": [],
   "source": [
    "CT.iloc[:,0:-2]=CT.iloc[:,0:-2].fillna(value=0)"
   ]
  },
  {
   "cell_type": "markdown",
   "metadata": {},
   "source": [
    "<font color='blue'>\n",
    "Drop missing value for last two columns since they are outcome variables.\n",
    "<font/>"
   ]
  },
  {
   "cell_type": "code",
   "execution_count": 32,
   "metadata": {
    "collapsed": true
   },
   "outputs": [],
   "source": [
    "CT.dropna(inplace=True,axis=0)"
   ]
  },
  {
   "cell_type": "markdown",
   "metadata": {},
   "source": [
    "# Summary Statistical Table"
   ]
  },
  {
   "cell_type": "markdown",
   "metadata": {},
   "source": [
    "<font color='blue'>\n",
    "For variables\"age\",\"密度\"and \"肿瘤最大径（mm）\" ,we can see their mean and std.\n",
    "For binary variables, we can see their counts/Total(%)\n",
    "<font/>"
   ]
  },
  {
   "cell_type": "code",
   "execution_count": 33,
   "metadata": {},
   "outputs": [
    {
     "data": {
      "text/html": [
       "<div>\n",
       "<style>\n",
       "    .dataframe thead tr:only-child th {\n",
       "        text-align: right;\n",
       "    }\n",
       "\n",
       "    .dataframe thead th {\n",
       "        text-align: left;\n",
       "    }\n",
       "\n",
       "    .dataframe tbody tr th {\n",
       "        vertical-align: top;\n",
       "    }\n",
       "</style>\n",
       "<table border=\"1\" class=\"dataframe\">\n",
       "  <thead>\n",
       "    <tr style=\"text-align: right;\">\n",
       "      <th></th>\n",
       "      <th>count</th>\n",
       "      <th>mean</th>\n",
       "      <th>std</th>\n",
       "      <th>min</th>\n",
       "      <th>25%</th>\n",
       "      <th>50%</th>\n",
       "      <th>75%</th>\n",
       "      <th>max</th>\n",
       "    </tr>\n",
       "  </thead>\n",
       "  <tbody>\n",
       "    <tr>\n",
       "      <th>gender</th>\n",
       "      <td>358.0</td>\n",
       "      <td>0.441341</td>\n",
       "      <td>0.497242</td>\n",
       "      <td>0.0</td>\n",
       "      <td>0.00</td>\n",
       "      <td>0.0</td>\n",
       "      <td>1.0000</td>\n",
       "      <td>1.0</td>\n",
       "    </tr>\n",
       "    <tr>\n",
       "      <th>age</th>\n",
       "      <td>358.0</td>\n",
       "      <td>60.834246</td>\n",
       "      <td>12.393782</td>\n",
       "      <td>1.0</td>\n",
       "      <td>53.00</td>\n",
       "      <td>61.0</td>\n",
       "      <td>69.0000</td>\n",
       "      <td>90.0</td>\n",
       "    </tr>\n",
       "    <tr>\n",
       "      <th>smoker</th>\n",
       "      <td>358.0</td>\n",
       "      <td>0.351955</td>\n",
       "      <td>0.478249</td>\n",
       "      <td>0.0</td>\n",
       "      <td>0.00</td>\n",
       "      <td>0.0</td>\n",
       "      <td>1.0000</td>\n",
       "      <td>1.0</td>\n",
       "    </tr>\n",
       "    <tr>\n",
       "      <th>肿瘤最大径（mm）</th>\n",
       "      <td>358.0</td>\n",
       "      <td>28.367570</td>\n",
       "      <td>15.027365</td>\n",
       "      <td>1.0</td>\n",
       "      <td>17.85</td>\n",
       "      <td>25.0</td>\n",
       "      <td>35.9025</td>\n",
       "      <td>93.0</td>\n",
       "    </tr>\n",
       "    <tr>\n",
       "      <th>边缘</th>\n",
       "      <td>358.0</td>\n",
       "      <td>0.592179</td>\n",
       "      <td>0.492117</td>\n",
       "      <td>0.0</td>\n",
       "      <td>0.00</td>\n",
       "      <td>1.0</td>\n",
       "      <td>1.0000</td>\n",
       "      <td>1.0</td>\n",
       "    </tr>\n",
       "    <tr>\n",
       "      <th>分叶征</th>\n",
       "      <td>358.0</td>\n",
       "      <td>0.547486</td>\n",
       "      <td>0.498437</td>\n",
       "      <td>0.0</td>\n",
       "      <td>0.00</td>\n",
       "      <td>1.0</td>\n",
       "      <td>1.0000</td>\n",
       "      <td>1.0</td>\n",
       "    </tr>\n",
       "    <tr>\n",
       "      <th>毛刺征</th>\n",
       "      <td>358.0</td>\n",
       "      <td>0.837989</td>\n",
       "      <td>0.368977</td>\n",
       "      <td>0.0</td>\n",
       "      <td>1.00</td>\n",
       "      <td>1.0</td>\n",
       "      <td>1.0000</td>\n",
       "      <td>1.0</td>\n",
       "    </tr>\n",
       "    <tr>\n",
       "      <th>磨玻璃影</th>\n",
       "      <td>358.0</td>\n",
       "      <td>0.240223</td>\n",
       "      <td>0.427817</td>\n",
       "      <td>0.0</td>\n",
       "      <td>0.00</td>\n",
       "      <td>0.0</td>\n",
       "      <td>0.0000</td>\n",
       "      <td>1.0</td>\n",
       "    </tr>\n",
       "    <tr>\n",
       "      <th>密度</th>\n",
       "      <td>358.0</td>\n",
       "      <td>-39.703911</td>\n",
       "      <td>174.668350</td>\n",
       "      <td>-780.0</td>\n",
       "      <td>-8.25</td>\n",
       "      <td>40.0</td>\n",
       "      <td>50.7500</td>\n",
       "      <td>77.0</td>\n",
       "    </tr>\n",
       "    <tr>\n",
       "      <th>空泡</th>\n",
       "      <td>358.0</td>\n",
       "      <td>0.181564</td>\n",
       "      <td>0.386024</td>\n",
       "      <td>0.0</td>\n",
       "      <td>0.00</td>\n",
       "      <td>0.0</td>\n",
       "      <td>0.0000</td>\n",
       "      <td>1.0</td>\n",
       "    </tr>\n",
       "    <tr>\n",
       "      <th>空洞</th>\n",
       "      <td>358.0</td>\n",
       "      <td>0.055866</td>\n",
       "      <td>0.229984</td>\n",
       "      <td>0.0</td>\n",
       "      <td>0.00</td>\n",
       "      <td>0.0</td>\n",
       "      <td>0.0000</td>\n",
       "      <td>1.0</td>\n",
       "    </tr>\n",
       "    <tr>\n",
       "      <th>空气支气管征</th>\n",
       "      <td>358.0</td>\n",
       "      <td>0.229050</td>\n",
       "      <td>0.420810</td>\n",
       "      <td>0.0</td>\n",
       "      <td>0.00</td>\n",
       "      <td>0.0</td>\n",
       "      <td>0.0000</td>\n",
       "      <td>1.0</td>\n",
       "    </tr>\n",
       "    <tr>\n",
       "      <th>胸膜增厚</th>\n",
       "      <td>358.0</td>\n",
       "      <td>0.441341</td>\n",
       "      <td>0.497242</td>\n",
       "      <td>0.0</td>\n",
       "      <td>0.00</td>\n",
       "      <td>0.0</td>\n",
       "      <td>1.0000</td>\n",
       "      <td>1.0</td>\n",
       "    </tr>\n",
       "    <tr>\n",
       "      <th>肿瘤坏死</th>\n",
       "      <td>358.0</td>\n",
       "      <td>0.120112</td>\n",
       "      <td>0.325547</td>\n",
       "      <td>0.0</td>\n",
       "      <td>0.00</td>\n",
       "      <td>0.0</td>\n",
       "      <td>0.0000</td>\n",
       "      <td>1.0</td>\n",
       "    </tr>\n",
       "    <tr>\n",
       "      <th>卫星结节</th>\n",
       "      <td>358.0</td>\n",
       "      <td>0.050279</td>\n",
       "      <td>0.218827</td>\n",
       "      <td>0.0</td>\n",
       "      <td>0.00</td>\n",
       "      <td>0.0</td>\n",
       "      <td>0.0000</td>\n",
       "      <td>1.0</td>\n",
       "    </tr>\n",
       "    <tr>\n",
       "      <th>结节</th>\n",
       "      <td>358.0</td>\n",
       "      <td>0.533520</td>\n",
       "      <td>0.516120</td>\n",
       "      <td>0.0</td>\n",
       "      <td>0.00</td>\n",
       "      <td>1.0</td>\n",
       "      <td>1.0000</td>\n",
       "      <td>3.0</td>\n",
       "    </tr>\n",
       "    <tr>\n",
       "      <th>胸膜凹陷征</th>\n",
       "      <td>358.0</td>\n",
       "      <td>0.650838</td>\n",
       "      <td>0.477372</td>\n",
       "      <td>0.0</td>\n",
       "      <td>0.00</td>\n",
       "      <td>1.0</td>\n",
       "      <td>1.0000</td>\n",
       "      <td>1.0</td>\n",
       "    </tr>\n",
       "    <tr>\n",
       "      <th>钙化</th>\n",
       "      <td>358.0</td>\n",
       "      <td>0.058659</td>\n",
       "      <td>0.235315</td>\n",
       "      <td>0.0</td>\n",
       "      <td>0.00</td>\n",
       "      <td>0.0</td>\n",
       "      <td>0.0000</td>\n",
       "      <td>1.0</td>\n",
       "    </tr>\n",
       "    <tr>\n",
       "      <th>肺气肿</th>\n",
       "      <td>358.0</td>\n",
       "      <td>0.086592</td>\n",
       "      <td>0.281630</td>\n",
       "      <td>0.0</td>\n",
       "      <td>0.00</td>\n",
       "      <td>0.0</td>\n",
       "      <td>0.0000</td>\n",
       "      <td>1.0</td>\n",
       "    </tr>\n",
       "    <tr>\n",
       "      <th>纤维化</th>\n",
       "      <td>358.0</td>\n",
       "      <td>0.307263</td>\n",
       "      <td>0.462005</td>\n",
       "      <td>0.0</td>\n",
       "      <td>0.00</td>\n",
       "      <td>0.0</td>\n",
       "      <td>1.0000</td>\n",
       "      <td>1.0</td>\n",
       "    </tr>\n",
       "    <tr>\n",
       "      <th>转移情况</th>\n",
       "      <td>358.0</td>\n",
       "      <td>0.290503</td>\n",
       "      <td>0.454630</td>\n",
       "      <td>0.0</td>\n",
       "      <td>0.00</td>\n",
       "      <td>0.0</td>\n",
       "      <td>1.0000</td>\n",
       "      <td>1.0</td>\n",
       "    </tr>\n",
       "    <tr>\n",
       "      <th>肺门淋巴结肿大</th>\n",
       "      <td>358.0</td>\n",
       "      <td>0.282123</td>\n",
       "      <td>0.450663</td>\n",
       "      <td>0.0</td>\n",
       "      <td>0.00</td>\n",
       "      <td>0.0</td>\n",
       "      <td>1.0000</td>\n",
       "      <td>1.0</td>\n",
       "    </tr>\n",
       "    <tr>\n",
       "      <th>纵隔淋巴结肿大</th>\n",
       "      <td>358.0</td>\n",
       "      <td>0.452514</td>\n",
       "      <td>0.498437</td>\n",
       "      <td>0.0</td>\n",
       "      <td>0.00</td>\n",
       "      <td>0.0</td>\n",
       "      <td>1.0000</td>\n",
       "      <td>1.0</td>\n",
       "    </tr>\n",
       "    <tr>\n",
       "      <th>19号</th>\n",
       "      <td>358.0</td>\n",
       "      <td>0.195531</td>\n",
       "      <td>0.397164</td>\n",
       "      <td>0.0</td>\n",
       "      <td>0.00</td>\n",
       "      <td>0.0</td>\n",
       "      <td>0.0000</td>\n",
       "      <td>1.0</td>\n",
       "    </tr>\n",
       "    <tr>\n",
       "      <th>21号</th>\n",
       "      <td>358.0</td>\n",
       "      <td>0.237430</td>\n",
       "      <td>0.426104</td>\n",
       "      <td>0.0</td>\n",
       "      <td>0.00</td>\n",
       "      <td>0.0</td>\n",
       "      <td>0.0000</td>\n",
       "      <td>1.0</td>\n",
       "    </tr>\n",
       "  </tbody>\n",
       "</table>\n",
       "</div>"
      ],
      "text/plain": [
       "           count       mean         std    min    25%   50%      75%   max\n",
       "gender     358.0   0.441341    0.497242    0.0   0.00   0.0   1.0000   1.0\n",
       "age        358.0  60.834246   12.393782    1.0  53.00  61.0  69.0000  90.0\n",
       "smoker     358.0   0.351955    0.478249    0.0   0.00   0.0   1.0000   1.0\n",
       "肿瘤最大径（mm）  358.0  28.367570   15.027365    1.0  17.85  25.0  35.9025  93.0\n",
       "边缘         358.0   0.592179    0.492117    0.0   0.00   1.0   1.0000   1.0\n",
       "分叶征        358.0   0.547486    0.498437    0.0   0.00   1.0   1.0000   1.0\n",
       "毛刺征        358.0   0.837989    0.368977    0.0   1.00   1.0   1.0000   1.0\n",
       "磨玻璃影       358.0   0.240223    0.427817    0.0   0.00   0.0   0.0000   1.0\n",
       "密度         358.0 -39.703911  174.668350 -780.0  -8.25  40.0  50.7500  77.0\n",
       "空泡         358.0   0.181564    0.386024    0.0   0.00   0.0   0.0000   1.0\n",
       "空洞         358.0   0.055866    0.229984    0.0   0.00   0.0   0.0000   1.0\n",
       "空气支气管征     358.0   0.229050    0.420810    0.0   0.00   0.0   0.0000   1.0\n",
       "胸膜增厚       358.0   0.441341    0.497242    0.0   0.00   0.0   1.0000   1.0\n",
       "肿瘤坏死       358.0   0.120112    0.325547    0.0   0.00   0.0   0.0000   1.0\n",
       "卫星结节       358.0   0.050279    0.218827    0.0   0.00   0.0   0.0000   1.0\n",
       "结节         358.0   0.533520    0.516120    0.0   0.00   1.0   1.0000   3.0\n",
       "胸膜凹陷征      358.0   0.650838    0.477372    0.0   0.00   1.0   1.0000   1.0\n",
       "钙化         358.0   0.058659    0.235315    0.0   0.00   0.0   0.0000   1.0\n",
       "肺气肿        358.0   0.086592    0.281630    0.0   0.00   0.0   0.0000   1.0\n",
       "纤维化        358.0   0.307263    0.462005    0.0   0.00   0.0   1.0000   1.0\n",
       "转移情况       358.0   0.290503    0.454630    0.0   0.00   0.0   1.0000   1.0\n",
       "肺门淋巴结肿大    358.0   0.282123    0.450663    0.0   0.00   0.0   1.0000   1.0\n",
       "纵隔淋巴结肿大    358.0   0.452514    0.498437    0.0   0.00   0.0   1.0000   1.0\n",
       "19号        358.0   0.195531    0.397164    0.0   0.00   0.0   0.0000   1.0\n",
       "21号        358.0   0.237430    0.426104    0.0   0.00   0.0   0.0000   1.0"
      ]
     },
     "execution_count": 33,
     "metadata": {},
     "output_type": "execute_result"
    }
   ],
   "source": [
    "CT.describe().T"
   ]
  },
  {
   "cell_type": "markdown",
   "metadata": {},
   "source": [
    "<font color='blue'>\n",
    "Also, providing counts numbers of each class for binary variables. (Ignore age,density and maximum diameters)\n",
    "<font/>"
   ]
  },
  {
   "cell_type": "code",
   "execution_count": 139,
   "metadata": {},
   "outputs": [
    {
     "data": {
      "text/plain": [
       "gender       158.000000\n",
       "age          240.681573\n",
       "smoker       126.000000\n",
       "肿瘤最大径（mm）    106.495543\n",
       "边缘           212.000000\n",
       "分叶征          196.000000\n",
       "毛刺征          300.000000\n",
       "磨玻璃影          86.000000\n",
       "密度           309.248541\n",
       "空泡            65.000000\n",
       "空洞            20.000000\n",
       "空气支气管征        82.000000\n",
       "胸膜增厚         158.000000\n",
       "肿瘤坏死          43.000000\n",
       "卫星结节          18.000000\n",
       "结节           191.000000\n",
       "胸膜凹陷征        233.000000\n",
       "钙化            21.000000\n",
       "肺气肿           31.000000\n",
       "纤维化          110.000000\n",
       "转移情况         104.000000\n",
       "肺门淋巴结肿大      101.000000\n",
       "纵隔淋巴结肿大      162.000000\n",
       "19号           70.000000\n",
       "21号           85.000000\n",
       "部位_LLL        73.000000\n",
       "部位_LUL        88.000000\n",
       "部位_RLL        47.000000\n",
       "部位_RML        65.000000\n",
       "部位_RUL        84.000000\n",
       "形状_不规则         4.000000\n",
       "形状_团片状        94.000000\n",
       "形状_斑片状         6.000000\n",
       "形状_类圆形       253.000000\n",
       "病理_多形性癌        1.000000\n",
       "病理_腺癌        308.000000\n",
       "病理_腺鳞癌         3.000000\n",
       "病理_鳞癌         45.000000\n",
       "dtype: float64"
      ]
     },
     "execution_count": 139,
     "metadata": {},
     "output_type": "execute_result"
    }
   ],
   "source": [
    "CT.sum()"
   ]
  },
  {
   "cell_type": "markdown",
   "metadata": {},
   "source": [
    "<font color='blue'>\n",
    "one-hot coded categorical variables: '形状','病理','部位'\n",
    "<font/>"
   ]
  },
  {
   "cell_type": "code",
   "execution_count": 34,
   "metadata": {
    "collapsed": true
   },
   "outputs": [],
   "source": [
    "CT = CT.iloc[:,2:]"
   ]
  },
  {
   "cell_type": "code",
   "execution_count": 35,
   "metadata": {
    "collapsed": true
   },
   "outputs": [],
   "source": [
    "CT = pd.get_dummies(CT)\n",
    "CT.drop('形状_1',axis=1,inplace=True)\n",
    "CT.drop('病理_1',axis=1,inplace=True)\n",
    "CT.drop('部位_1',axis=1,inplace=True)"
   ]
  },
  {
   "cell_type": "code",
   "execution_count": 36,
   "metadata": {},
   "outputs": [
    {
     "data": {
      "text/html": [
       "<div>\n",
       "<style>\n",
       "    .dataframe thead tr:only-child th {\n",
       "        text-align: right;\n",
       "    }\n",
       "\n",
       "    .dataframe thead th {\n",
       "        text-align: left;\n",
       "    }\n",
       "\n",
       "    .dataframe tbody tr th {\n",
       "        vertical-align: top;\n",
       "    }\n",
       "</style>\n",
       "<table border=\"1\" class=\"dataframe\">\n",
       "  <thead>\n",
       "    <tr style=\"text-align: right;\">\n",
       "      <th></th>\n",
       "      <th>gender</th>\n",
       "      <th>age</th>\n",
       "      <th>smoker</th>\n",
       "      <th>肿瘤最大径（mm）</th>\n",
       "      <th>边缘</th>\n",
       "      <th>分叶征</th>\n",
       "      <th>毛刺征</th>\n",
       "      <th>磨玻璃影</th>\n",
       "      <th>密度</th>\n",
       "      <th>空泡</th>\n",
       "      <th>...</th>\n",
       "      <th>部位_RML</th>\n",
       "      <th>部位_RUL</th>\n",
       "      <th>形状_不规则</th>\n",
       "      <th>形状_团片状</th>\n",
       "      <th>形状_斑片状</th>\n",
       "      <th>形状_类圆形</th>\n",
       "      <th>病理_多形性癌</th>\n",
       "      <th>病理_腺癌</th>\n",
       "      <th>病理_腺鳞癌</th>\n",
       "      <th>病理_鳞癌</th>\n",
       "    </tr>\n",
       "  </thead>\n",
       "  <tbody>\n",
       "    <tr>\n",
       "      <th>0</th>\n",
       "      <td>1</td>\n",
       "      <td>79.0</td>\n",
       "      <td>0</td>\n",
       "      <td>23.33</td>\n",
       "      <td>1</td>\n",
       "      <td>0</td>\n",
       "      <td>1</td>\n",
       "      <td>0</td>\n",
       "      <td>38</td>\n",
       "      <td>0</td>\n",
       "      <td>...</td>\n",
       "      <td>0</td>\n",
       "      <td>0</td>\n",
       "      <td>0</td>\n",
       "      <td>0</td>\n",
       "      <td>0</td>\n",
       "      <td>1</td>\n",
       "      <td>0</td>\n",
       "      <td>1</td>\n",
       "      <td>0</td>\n",
       "      <td>0</td>\n",
       "    </tr>\n",
       "    <tr>\n",
       "      <th>1</th>\n",
       "      <td>0</td>\n",
       "      <td>76.0</td>\n",
       "      <td>1</td>\n",
       "      <td>53.54</td>\n",
       "      <td>1</td>\n",
       "      <td>0</td>\n",
       "      <td>1</td>\n",
       "      <td>0</td>\n",
       "      <td>50</td>\n",
       "      <td>0</td>\n",
       "      <td>...</td>\n",
       "      <td>1</td>\n",
       "      <td>0</td>\n",
       "      <td>0</td>\n",
       "      <td>1</td>\n",
       "      <td>0</td>\n",
       "      <td>0</td>\n",
       "      <td>0</td>\n",
       "      <td>1</td>\n",
       "      <td>0</td>\n",
       "      <td>0</td>\n",
       "    </tr>\n",
       "    <tr>\n",
       "      <th>2</th>\n",
       "      <td>1</td>\n",
       "      <td>59.0</td>\n",
       "      <td>1</td>\n",
       "      <td>27.41</td>\n",
       "      <td>1</td>\n",
       "      <td>1</td>\n",
       "      <td>1</td>\n",
       "      <td>0</td>\n",
       "      <td>5</td>\n",
       "      <td>0</td>\n",
       "      <td>...</td>\n",
       "      <td>0</td>\n",
       "      <td>0</td>\n",
       "      <td>0</td>\n",
       "      <td>0</td>\n",
       "      <td>0</td>\n",
       "      <td>1</td>\n",
       "      <td>0</td>\n",
       "      <td>1</td>\n",
       "      <td>0</td>\n",
       "      <td>0</td>\n",
       "    </tr>\n",
       "    <tr>\n",
       "      <th>3</th>\n",
       "      <td>1</td>\n",
       "      <td>85.0</td>\n",
       "      <td>0</td>\n",
       "      <td>61.33</td>\n",
       "      <td>1</td>\n",
       "      <td>0</td>\n",
       "      <td>1</td>\n",
       "      <td>0</td>\n",
       "      <td>55</td>\n",
       "      <td>0</td>\n",
       "      <td>...</td>\n",
       "      <td>0</td>\n",
       "      <td>1</td>\n",
       "      <td>0</td>\n",
       "      <td>0</td>\n",
       "      <td>0</td>\n",
       "      <td>1</td>\n",
       "      <td>0</td>\n",
       "      <td>1</td>\n",
       "      <td>0</td>\n",
       "      <td>0</td>\n",
       "    </tr>\n",
       "    <tr>\n",
       "      <th>4</th>\n",
       "      <td>1</td>\n",
       "      <td>76.0</td>\n",
       "      <td>0</td>\n",
       "      <td>18.12</td>\n",
       "      <td>1</td>\n",
       "      <td>0</td>\n",
       "      <td>1</td>\n",
       "      <td>1</td>\n",
       "      <td>-260</td>\n",
       "      <td>0</td>\n",
       "      <td>...</td>\n",
       "      <td>0</td>\n",
       "      <td>0</td>\n",
       "      <td>0</td>\n",
       "      <td>0</td>\n",
       "      <td>0</td>\n",
       "      <td>1</td>\n",
       "      <td>0</td>\n",
       "      <td>1</td>\n",
       "      <td>0</td>\n",
       "      <td>0</td>\n",
       "    </tr>\n",
       "  </tbody>\n",
       "</table>\n",
       "<p>5 rows × 38 columns</p>\n",
       "</div>"
      ],
      "text/plain": [
       "   gender   age  smoker  肿瘤最大径（mm）  边缘  分叶征  毛刺征  磨玻璃影   密度  空泡  ...    \\\n",
       "0       1  79.0       0      23.33   1    0    1     0   38   0  ...     \n",
       "1       0  76.0       1      53.54   1    0    1     0   50   0  ...     \n",
       "2       1  59.0       1      27.41   1    1    1     0    5   0  ...     \n",
       "3       1  85.0       0      61.33   1    0    1     0   55   0  ...     \n",
       "4       1  76.0       0      18.12   1    0    1     1 -260   0  ...     \n",
       "\n",
       "   部位_RML  部位_RUL  形状_不规则  形状_团片状  形状_斑片状  形状_类圆形  病理_多形性癌  病理_腺癌  病理_腺鳞癌  \\\n",
       "0       0       0       0       0       0       1        0      1       0   \n",
       "1       1       0       0       1       0       0        0      1       0   \n",
       "2       0       0       0       0       0       1        0      1       0   \n",
       "3       0       1       0       0       0       1        0      1       0   \n",
       "4       0       0       0       0       0       1        0      1       0   \n",
       "\n",
       "   病理_鳞癌  \n",
       "0      0  \n",
       "1      0  \n",
       "2      0  \n",
       "3      0  \n",
       "4      0  \n",
       "\n",
       "[5 rows x 38 columns]"
      ]
     },
     "execution_count": 36,
     "metadata": {},
     "output_type": "execute_result"
    }
   ],
   "source": [
    "#Display the first 5 rows of the dataset after one-hot encoding\n",
    "CT.head()"
   ]
  },
  {
   "cell_type": "markdown",
   "metadata": {
    "collapsed": true
   },
   "source": [
    "<font color='blue'>\n",
    "Apply Min-Max scaler\n",
    "<font/>"
   ]
  },
  {
   "cell_type": "code",
   "execution_count": 37,
   "metadata": {
    "collapsed": true
   },
   "outputs": [],
   "source": [
    "from sklearn.preprocessing import MinMaxScaler\n",
    "minmaxscaler= MinMaxScaler()\n",
    "minmaxscaler.fit(CT.loc[:,['age','密度','肿瘤最大径（mm）']])\n",
    "CT.loc[:,['age','密度','肿瘤最大径（mm）']]=minmaxscaler.transform(CT.loc[:,['age','密度','肿瘤最大径（mm）']])"
   ]
  },
  {
   "cell_type": "code",
   "execution_count": 38,
   "metadata": {},
   "outputs": [
    {
     "data": {
      "text/html": [
       "<div>\n",
       "<style>\n",
       "    .dataframe thead tr:only-child th {\n",
       "        text-align: right;\n",
       "    }\n",
       "\n",
       "    .dataframe thead th {\n",
       "        text-align: left;\n",
       "    }\n",
       "\n",
       "    .dataframe tbody tr th {\n",
       "        vertical-align: top;\n",
       "    }\n",
       "</style>\n",
       "<table border=\"1\" class=\"dataframe\">\n",
       "  <thead>\n",
       "    <tr style=\"text-align: right;\">\n",
       "      <th></th>\n",
       "      <th>gender</th>\n",
       "      <th>age</th>\n",
       "      <th>smoker</th>\n",
       "      <th>肿瘤最大径（mm）</th>\n",
       "      <th>边缘</th>\n",
       "      <th>分叶征</th>\n",
       "      <th>毛刺征</th>\n",
       "      <th>磨玻璃影</th>\n",
       "      <th>密度</th>\n",
       "      <th>空泡</th>\n",
       "      <th>...</th>\n",
       "      <th>部位_RML</th>\n",
       "      <th>部位_RUL</th>\n",
       "      <th>形状_不规则</th>\n",
       "      <th>形状_团片状</th>\n",
       "      <th>形状_斑片状</th>\n",
       "      <th>形状_类圆形</th>\n",
       "      <th>病理_多形性癌</th>\n",
       "      <th>病理_腺癌</th>\n",
       "      <th>病理_腺鳞癌</th>\n",
       "      <th>病理_鳞癌</th>\n",
       "    </tr>\n",
       "  </thead>\n",
       "  <tbody>\n",
       "    <tr>\n",
       "      <th>0</th>\n",
       "      <td>1</td>\n",
       "      <td>0.876404</td>\n",
       "      <td>0</td>\n",
       "      <td>0.242717</td>\n",
       "      <td>1</td>\n",
       "      <td>0</td>\n",
       "      <td>1</td>\n",
       "      <td>0</td>\n",
       "      <td>0.954492</td>\n",
       "      <td>0</td>\n",
       "      <td>...</td>\n",
       "      <td>0</td>\n",
       "      <td>0</td>\n",
       "      <td>0</td>\n",
       "      <td>0</td>\n",
       "      <td>0</td>\n",
       "      <td>1</td>\n",
       "      <td>0</td>\n",
       "      <td>1</td>\n",
       "      <td>0</td>\n",
       "      <td>0</td>\n",
       "    </tr>\n",
       "    <tr>\n",
       "      <th>1</th>\n",
       "      <td>0</td>\n",
       "      <td>0.842697</td>\n",
       "      <td>1</td>\n",
       "      <td>0.571087</td>\n",
       "      <td>1</td>\n",
       "      <td>0</td>\n",
       "      <td>1</td>\n",
       "      <td>0</td>\n",
       "      <td>0.968495</td>\n",
       "      <td>0</td>\n",
       "      <td>...</td>\n",
       "      <td>1</td>\n",
       "      <td>0</td>\n",
       "      <td>0</td>\n",
       "      <td>1</td>\n",
       "      <td>0</td>\n",
       "      <td>0</td>\n",
       "      <td>0</td>\n",
       "      <td>1</td>\n",
       "      <td>0</td>\n",
       "      <td>0</td>\n",
       "    </tr>\n",
       "    <tr>\n",
       "      <th>2</th>\n",
       "      <td>1</td>\n",
       "      <td>0.651685</td>\n",
       "      <td>1</td>\n",
       "      <td>0.287065</td>\n",
       "      <td>1</td>\n",
       "      <td>1</td>\n",
       "      <td>1</td>\n",
       "      <td>0</td>\n",
       "      <td>0.915986</td>\n",
       "      <td>0</td>\n",
       "      <td>...</td>\n",
       "      <td>0</td>\n",
       "      <td>0</td>\n",
       "      <td>0</td>\n",
       "      <td>0</td>\n",
       "      <td>0</td>\n",
       "      <td>1</td>\n",
       "      <td>0</td>\n",
       "      <td>1</td>\n",
       "      <td>0</td>\n",
       "      <td>0</td>\n",
       "    </tr>\n",
       "    <tr>\n",
       "      <th>3</th>\n",
       "      <td>1</td>\n",
       "      <td>0.943820</td>\n",
       "      <td>0</td>\n",
       "      <td>0.655761</td>\n",
       "      <td>1</td>\n",
       "      <td>0</td>\n",
       "      <td>1</td>\n",
       "      <td>0</td>\n",
       "      <td>0.974329</td>\n",
       "      <td>0</td>\n",
       "      <td>...</td>\n",
       "      <td>0</td>\n",
       "      <td>1</td>\n",
       "      <td>0</td>\n",
       "      <td>0</td>\n",
       "      <td>0</td>\n",
       "      <td>1</td>\n",
       "      <td>0</td>\n",
       "      <td>1</td>\n",
       "      <td>0</td>\n",
       "      <td>0</td>\n",
       "    </tr>\n",
       "    <tr>\n",
       "      <th>4</th>\n",
       "      <td>1</td>\n",
       "      <td>0.842697</td>\n",
       "      <td>0</td>\n",
       "      <td>0.186087</td>\n",
       "      <td>1</td>\n",
       "      <td>0</td>\n",
       "      <td>1</td>\n",
       "      <td>1</td>\n",
       "      <td>0.606768</td>\n",
       "      <td>0</td>\n",
       "      <td>...</td>\n",
       "      <td>0</td>\n",
       "      <td>0</td>\n",
       "      <td>0</td>\n",
       "      <td>0</td>\n",
       "      <td>0</td>\n",
       "      <td>1</td>\n",
       "      <td>0</td>\n",
       "      <td>1</td>\n",
       "      <td>0</td>\n",
       "      <td>0</td>\n",
       "    </tr>\n",
       "  </tbody>\n",
       "</table>\n",
       "<p>5 rows × 38 columns</p>\n",
       "</div>"
      ],
      "text/plain": [
       "   gender       age  smoker  肿瘤最大径（mm）  边缘  分叶征  毛刺征  磨玻璃影        密度  空泡  \\\n",
       "0       1  0.876404       0   0.242717   1    0    1     0  0.954492   0   \n",
       "1       0  0.842697       1   0.571087   1    0    1     0  0.968495   0   \n",
       "2       1  0.651685       1   0.287065   1    1    1     0  0.915986   0   \n",
       "3       1  0.943820       0   0.655761   1    0    1     0  0.974329   0   \n",
       "4       1  0.842697       0   0.186087   1    0    1     1  0.606768   0   \n",
       "\n",
       "   ...    部位_RML  部位_RUL  形状_不规则  形状_团片状  形状_斑片状  形状_类圆形  病理_多形性癌  病理_腺癌  \\\n",
       "0  ...         0       0       0       0       0       1        0      1   \n",
       "1  ...         1       0       0       1       0       0        0      1   \n",
       "2  ...         0       0       0       0       0       1        0      1   \n",
       "3  ...         0       1       0       0       0       1        0      1   \n",
       "4  ...         0       0       0       0       0       1        0      1   \n",
       "\n",
       "   病理_腺鳞癌  病理_鳞癌  \n",
       "0       0      0  \n",
       "1       0      0  \n",
       "2       0      0  \n",
       "3       0      0  \n",
       "4       0      0  \n",
       "\n",
       "[5 rows x 38 columns]"
      ]
     },
     "execution_count": 38,
     "metadata": {},
     "output_type": "execute_result"
    }
   ],
   "source": [
    "CT.head()"
   ]
  },
  {
   "cell_type": "markdown",
   "metadata": {},
   "source": [
    "<font color='blue'>\n",
    "Upsample Minority Class\n",
    "<font/>"
   ]
  },
  {
   "cell_type": "code",
   "execution_count": 39,
   "metadata": {
    "collapsed": true
   },
   "outputs": [],
   "source": [
    "from sklearn.utils import resample"
   ]
  },
  {
   "cell_type": "code",
   "execution_count": 40,
   "metadata": {
    "collapsed": true
   },
   "outputs": [],
   "source": [
    "CT19 = CT.drop('21号',axis=1)\n",
    "CT21 = CT.drop('19号',axis=1)"
   ]
  },
  {
   "cell_type": "code",
   "execution_count": 41,
   "metadata": {},
   "outputs": [
    {
     "data": {
      "text/plain": [
       "0.0    288\n",
       "1.0     70\n",
       "Name: 19号, dtype: int64"
      ]
     },
     "execution_count": 41,
     "metadata": {},
     "output_type": "execute_result"
    }
   ],
   "source": [
    "CT19['19号'].value_counts()"
   ]
  },
  {
   "cell_type": "code",
   "execution_count": 42,
   "metadata": {},
   "outputs": [
    {
     "data": {
      "text/plain": [
       "0.0    273\n",
       "1.0     85\n",
       "Name: 21号, dtype: int64"
      ]
     },
     "execution_count": 42,
     "metadata": {},
     "output_type": "execute_result"
    }
   ],
   "source": [
    "CT21['21号'].value_counts()"
   ]
  },
  {
   "cell_type": "code",
   "execution_count": 43,
   "metadata": {
    "collapsed": true
   },
   "outputs": [],
   "source": [
    "CT19_majority = CT19[CT19['19号']==0]\n",
    "CT19_minority = CT19[CT19['19号']==1]\n",
    "CT19_minority_upsampled = resample(CT19_minority,replace=True,n_samples=288,random_state=222)\n",
    "CT21_majority = CT21[CT21['21号']==0]\n",
    "CT21_minority = CT21[CT21['21号']==1]\n",
    "CT21_minority_upsampled = resample(CT21_minority,replace=True,n_samples=275,random_state=222)\n",
    "CT19_balanced = pd.concat([CT19_majority,CT19_minority_upsampled])\n",
    "CT21_balanced = pd.concat([CT21_majority,CT21_minority_upsampled])"
   ]
  },
  {
   "cell_type": "code",
   "execution_count": 44,
   "metadata": {},
   "outputs": [
    {
     "data": {
      "text/plain": [
       "1.0    288\n",
       "0.0    288\n",
       "Name: 19号, dtype: int64"
      ]
     },
     "execution_count": 44,
     "metadata": {},
     "output_type": "execute_result"
    }
   ],
   "source": [
    "CT19_balanced['19号'].value_counts()"
   ]
  },
  {
   "cell_type": "code",
   "execution_count": 45,
   "metadata": {},
   "outputs": [
    {
     "data": {
      "text/plain": [
       "1.0    275\n",
       "0.0    273\n",
       "Name: 21号, dtype: int64"
      ]
     },
     "execution_count": 45,
     "metadata": {},
     "output_type": "execute_result"
    }
   ],
   "source": [
    "CT21_balanced['21号'].value_counts()"
   ]
  },
  {
   "cell_type": "markdown",
   "metadata": {},
   "source": [
    "After resampling, we get equal number of observations for two outcome classes."
   ]
  },
  {
   "cell_type": "markdown",
   "metadata": {},
   "source": [
    "<font color='blue'>\n",
    "Get features X and outcomes y\n",
    "</font>"
   ]
  },
  {
   "cell_type": "code",
   "execution_count": 46,
   "metadata": {
    "collapsed": true
   },
   "outputs": [],
   "source": [
    "X19=CT19_balanced.drop('19号',axis=1)\n",
    "y19=CT19_balanced['19号']\n",
    "X21=CT21_balanced.drop('21号',axis=1)\n",
    "y21=CT21_balanced['21号']"
   ]
  },
  {
   "cell_type": "markdown",
   "metadata": {},
   "source": [
    "<font color='blue'>\n",
    "Training and Testing Split\n",
    "<font/>"
   ]
  },
  {
   "cell_type": "code",
   "execution_count": 47,
   "metadata": {
    "collapsed": true
   },
   "outputs": [],
   "source": [
    "#test size is 1/5, use stratify\n",
    "from sklearn.model_selection import train_test_split\n",
    "X19_train,X19_test,y19_train,y19_test=train_test_split(X19,y19,test_size=0.2,stratify=y19,random_state=22)\n",
    "X21_train,X21_test,y21_train,y21_test=train_test_split(X21,y21,test_size=0.2,stratify=y21,random_state=22)"
   ]
  },
  {
   "cell_type": "code",
   "execution_count": 136,
   "metadata": {},
   "outputs": [
    {
     "name": "stdout",
     "output_type": "stream",
     "text": [
      "X19_train Shape: (460, 36)\n",
      "X19_test Shape: (116, 36)\n",
      "y19_train Shape (460,)\n",
      "y19_test Shape (116,)\n"
     ]
    }
   ],
   "source": [
    "#Print exon19 subset shape\n",
    "print(\"X19_train Shape:\",X19_train.shape)\n",
    "print(\"X19_test Shape:\",X19_test.shape)\n",
    "print(\"y19_train Shape\",y19_train.shape)\n",
    "print(\"y19_test Shape\",y19_test.shape)"
   ]
  },
  {
   "cell_type": "code",
   "execution_count": 137,
   "metadata": {},
   "outputs": [
    {
     "name": "stdout",
     "output_type": "stream",
     "text": [
      "X21_train Shape: (438, 36)\n",
      "X21_test Shape: (110, 36)\n",
      "y21_train Shape (438,)\n",
      "y21_test Shape (110,)\n"
     ]
    }
   ],
   "source": [
    "#Print exon21 subset shape\n",
    "print(\"X21_train Shape:\",X21_train.shape)\n",
    "print(\"X21_test Shape:\",X21_test.shape)\n",
    "print(\"y21_train Shape\",y21_train.shape)\n",
    "print(\"y21_test Shape\",y21_test.shape)"
   ]
  },
  {
   "cell_type": "markdown",
   "metadata": {},
   "source": [
    "# Exon19"
   ]
  },
  {
   "cell_type": "markdown",
   "metadata": {},
   "source": [
    "<font color='blue'>\n",
    "Check train and test distribution\n",
    "<font/>"
   ]
  },
  {
   "cell_type": "code",
   "execution_count": 50,
   "metadata": {
    "collapsed": true
   },
   "outputs": [],
   "source": [
    "X_train_mean=X19_train.describe().T['mean'].tolist()\n",
    "X_test_mean=X19_test.describe().T['mean'].tolist()"
   ]
  },
  {
   "cell_type": "code",
   "execution_count": 51,
   "metadata": {},
   "outputs": [
    {
     "data": {
      "image/png": "[encoded data removed]",
      "text/plain": [
       "<matplotlib.figure.Figure at 0x110a54748>"
      ]
     },
     "metadata": {},
     "output_type": "display_data"
    }
   ],
   "source": [
    "import matplotlib.pyplot as plt\n",
    "plt.bar(np.arange(36), X_train_mean, align='center',alpha=0.5)\n",
    "plt.ylabel('Mean')\n",
    "plt.xlabel('Features')\n",
    "plt.title('Features distribution of training set')\n",
    "plt.show()"
   ]
  },
  {
   "cell_type": "code",
   "execution_count": 52,
   "metadata": {},
   "outputs": [
    {
     "data": {
      "image/png": "[encoded data removed]",
      "text/plain": [
       "<matplotlib.figure.Figure at 0x1a16f6def0>"
      ]
     },
     "metadata": {},
     "output_type": "display_data"
    }
   ],
   "source": [
    "import matplotlib.pyplot as plt\n",
    "plt.bar(np.arange(36), X_test_mean, align='center',alpha=0.5)\n",
    "plt.ylabel('Mean')\n",
    "plt.xlabel('Features')\n",
    "plt.title('Features distribution of testing set')\n",
    "plt.show()"
   ]
  },
  {
   "cell_type": "markdown",
   "metadata": {},
   "source": [
    "We can see from the tables above that the train and test set observations distributions are similar."
   ]
  },
  {
   "cell_type": "markdown",
   "metadata": {},
   "source": [
    "# Logistic Regression\n",
    "\n",
    "1. Fit a baseline logistic regression with L1-norm. \n",
    "2. Split the train set into 5 folds and implement cross validation.\n",
    "3. Draw ROC curve and calculate AUC to show prediction results on cross validation sets.\n",
    "4. Tune hyperparameters using grid search cross validition on the training set.\n",
    "5. Choose the best parameters and refit the model.\n",
    "6. Repeat 3 on new model.\n",
    "7. Draw ROC curve and calculate on test set.\n",
    "8. Show confusion matrix and calculate accuracy, sensitivity and specificity on test set."
   ]
  },
  {
   "cell_type": "markdown",
   "metadata": {},
   "source": [
    "<font color='blue'>\n",
    "Fit a baseline model.\n",
    "<font/>"
   ]
  },
  {
   "cell_type": "code",
   "execution_count": 53,
   "metadata": {},
   "outputs": [
    {
     "data": {
      "text/plain": [
       "LogisticRegression(C=1.0, class_weight=None, dual=False, fit_intercept=True,\n",
       "          intercept_scaling=1, max_iter=300, multi_class='ovr', n_jobs=1,\n",
       "          penalty='l1', random_state=22, solver='liblinear', tol=0.0001,\n",
       "          verbose=0, warm_start=False)"
      ]
     },
     "execution_count": 53,
     "metadata": {},
     "output_type": "execute_result"
    }
   ],
   "source": [
    "from sklearn.linear_model import LogisticRegression\n",
    "log19 = LogisticRegression(penalty=\"l1\",solver=\"liblinear\",random_state=22,max_iter=300)\n",
    "log19.fit(X19_train,y19_train)"
   ]
  },
  {
   "cell_type": "markdown",
   "metadata": {},
   "source": [
    "<font color='blue'>\n",
    "Define a function to draw cross validation ROC curve showing prediction results on validition sets.\n",
    "<font/>"
   ]
  },
  {
   "cell_type": "code",
   "execution_count": 55,
   "metadata": {},
   "outputs": [
    {
     "data": {
      "text/plain": [
       "<generator object _BaseKFold.split at 0x1a170390a0>"
      ]
     },
     "execution_count": 55,
     "metadata": {},
     "output_type": "execute_result"
    }
   ],
   "source": [
    "from sklearn.model_selection import KFold\n",
    "kf = KFold(n_splits=4)\n",
    "kf.get_n_splits(X19_train,y19_train)\n",
    "kf.split(X19_train,y19_train)"
   ]
  },
  {
   "cell_type": "code",
   "execution_count": 56,
   "metadata": {
    "collapsed": true
   },
   "outputs": [],
   "source": [
    "def cv_roc(classifier,X,y):    \n",
    "    from sklearn import metrics\n",
    "    from scipy import interp\n",
    "    tprs = []\n",
    "    aucs = []\n",
    "    mean_fpr = np.linspace(0, 1, 100)\n",
    "    i = 0\n",
    "    for train, test in kf.split(X, y):\n",
    "        \n",
    "        probas_ = classifier.fit(X[train], y[train]).predict_proba(X[test])[:,1]\n",
    "        # Compute ROC curve and area the curve\n",
    "        fpr, tpr, thresholds = metrics.roc_curve(y[test], probas_)\n",
    "        roc_auc = metrics.auc(fpr, tpr)\n",
    "        tprs.append(interp(mean_fpr, fpr, tpr))\n",
    "        tprs[-1][0] = 0.0\n",
    "        aucs.append(roc_auc)\n",
    "        plt.plot(fpr, tpr, lw=1, alpha=0.3,\n",
    "                 label='ROC fold %d (AUC = %0.2f)' % (i, roc_auc))\n",
    "\n",
    "        i += 1\n",
    "    plt.plot([0, 1], [0, 1], linestyle='--', lw=2, color='r',\n",
    "             label='Luck', alpha=.8)\n",
    "\n",
    "    mean_tpr = np.mean(tprs, axis=0)\n",
    "    mean_tpr[-1] = 1.0\n",
    "    mean_auc = metrics.auc(mean_fpr, mean_tpr)\n",
    "    std_auc = np.std(aucs)\n",
    "    plt.plot(mean_fpr, mean_tpr, color='b',\n",
    "             label=r'Mean ROC (AUC = %0.2f $\\pm$ %0.2f)' % (mean_auc, std_auc),\n",
    "             lw=2, alpha=.8)\n",
    "\n",
    "    std_tpr = np.std(tprs, axis=0)\n",
    "    tprs_upper = np.minimum(mean_tpr + std_tpr, 1)\n",
    "    tprs_lower = np.maximum(mean_tpr - std_tpr, 0)\n",
    "    plt.fill_between(mean_fpr, tprs_lower, tprs_upper, color='grey', alpha=.2,\n",
    "                     label=r'$\\pm$ 1 std. dev.')\n",
    "\n",
    "    plt.xlim([-0.05, 1.05])\n",
    "    plt.ylim([-0.05, 1.05])\n",
    "    plt.xlabel('False Positive Rate')\n",
    "    plt.ylabel('True Positive Rate')\n",
    "    plt.title('ROC for cross validation')\n",
    "    plt.legend(loc=\"lower right\")\n",
    "    plt.show()"
   ]
  },
  {
   "cell_type": "code",
   "execution_count": 61,
   "metadata": {
    "scrolled": true
   },
   "outputs": [
    {
     "data": {
      "image/png": "[encoded data removed]",
      "text/plain": [
       "<matplotlib.figure.Figure at 0x110afbda0>"
      ]
     },
     "metadata": {},
     "output_type": "display_data"
    },
    {
     "name": "stdout",
     "output_type": "stream",
     "text": [
      "Cross Validation Accuracy set: [ 0.69565217  0.7173913   0.70652174  0.69565217  0.76086957]\n",
      "Average Cross Validation Accuracy:0.715217391304\n"
     ]
    }
   ],
   "source": [
    "# Draw ROC curve for cross validation\n",
    "cv_roc(log19,np.array(X19_train),np.array(y19_train))\n",
    "#Calculate mean accuracy on cross validition sets and train set.\n",
    "from sklearn.model_selection import cross_val_score\n",
    "cvscores19=cross_val_score(log19, X19_train,y19_train, scoring='accuracy', cv = 5)\n",
    "print(\"Cross Validation Accuracy set:\",cvscores19)\n",
    "print(\"Average Cross Validation Accuracy:\"+str(cvscores19.mean()))"
   ]
  },
  {
   "cell_type": "markdown",
   "metadata": {},
   "source": [
    "<font color='blue'>\n",
    "Then,implement grid search cross validition to tune 'C'\n",
    "<font/>"
   ]
  },
  {
   "cell_type": "code",
   "execution_count": 58,
   "metadata": {},
   "outputs": [
    {
     "name": "stderr",
     "output_type": "stream",
     "text": [
      "/Users/wanhengzhang/anaconda/lib/python3.6/site-packages/sklearn/cross_validation.py:41: DeprecationWarning: This module was deprecated in version 0.18 in favor of the model_selection module into which all the refactored classes and functions are moved. Also note that the interface of the new CV iterators are different from that of this module. This module will be removed in 0.20.\n",
      "  \"This module will be removed in 0.20.\", DeprecationWarning)\n",
      "/Users/wanhengzhang/anaconda/lib/python3.6/site-packages/sklearn/grid_search.py:42: DeprecationWarning: This module was deprecated in version 0.18 in favor of the model_selection module into which all the refactored classes and functions are moved. This module will be removed in 0.20.\n",
      "  DeprecationWarning)\n"
     ]
    },
    {
     "data": {
      "text/plain": [
       "{'C': 10}"
      ]
     },
     "execution_count": 58,
     "metadata": {},
     "output_type": "execute_result"
    }
   ],
   "source": [
    "from sklearn import grid_search\n",
    "parameters = {'C':[0.01,0.1,1,10,100]}\n",
    "new_log19 = grid_search.GridSearchCV(log19, parameters)\n",
    "new_log19.fit(X19_train,y19_train)\n",
    "new_log19.best_params_"
   ]
  },
  {
   "cell_type": "markdown",
   "metadata": {},
   "source": [
    "<font color='blue'>\n",
    "The best parameter C we find is 10 and the model will be refit with C=10\n",
    "<font/>"
   ]
  },
  {
   "cell_type": "code",
   "execution_count": 60,
   "metadata": {},
   "outputs": [
    {
     "data": {
      "image/png": "[encoded data removed]",
      "text/plain": [
       "<matplotlib.figure.Figure at 0x1a1703bdd8>"
      ]
     },
     "metadata": {},
     "output_type": "display_data"
    },
    {
     "name": "stdout",
     "output_type": "stream",
     "text": [
      "Cross Validation Accuracy set: [ 0.7173913   0.7173913   0.75        0.68478261  0.77173913]\n",
      "Average Cross Validition Accuracy:0.728260869565\n"
     ]
    }
   ],
   "source": [
    "# Refit the model and apply cross validition on training set.\n",
    "cv_roc(new_log19,np.array(X19_train),np.array(y19_train))\n",
    "cvscores19=cross_val_score(new_log19, X19_train,y19_train, scoring='accuracy', cv = 5)\n",
    "print(\"Cross Validation Accuracy set:\",cvscores19)\n",
    "print(\"Average Cross Validition Accuracy:\"+str(cvscores19.mean()))"
   ]
  },
  {
   "cell_type": "markdown",
   "metadata": {},
   "source": [
    "<font color='blue'>\n",
    "Evaluate new model permance on test set.\n",
    "<font/>"
   ]
  },
  {
   "cell_type": "code",
   "execution_count": 104,
   "metadata": {
    "collapsed": true
   },
   "outputs": [],
   "source": [
    "#Draw ROC curve and calculate AUC\n",
    "def test_roc(classifier,X_test,y_test):\n",
    "    import matplotlib.pyplot as plt\n",
    "    from sklearn import metrics\n",
    "    from sklearn.metrics import roc_auc_score\n",
    "    from sklearn.metrics import roc_curve\n",
    "    fpr,tpr,thresholds=roc_curve(y_test,classifier.predict_proba(X_test)[:,1])\n",
    "    auc=metrics.auc(fpr,tpr)\n",
    "    plt.figure()\n",
    "    plt.plot(fpr, tpr, label='Test (area = %0.2f)' % auc)\n",
    "    plt.plot([0, 1], [0, 1],'r--')\n",
    "    plt.xlim([0.0, 1.0])\n",
    "    plt.ylim([0.0, 1.05])\n",
    "    plt.xlabel('False Positive Rate')\n",
    "    plt.ylabel('True Positive Rate')\n",
    "    plt.title('ROC on test set')\n",
    "    plt.legend(loc=\"lower right\")\n",
    "    plt.show()\n",
    "    print(\"AUC = %0.3f\" % auc)"
   ]
  },
  {
   "cell_type": "code",
   "execution_count": 105,
   "metadata": {},
   "outputs": [
    {
     "data": {
      "image/png": "[encoded data removed]",
      "text/plain": [
       "<matplotlib.figure.Figure at 0x1a187511d0>"
      ]
     },
     "metadata": {},
     "output_type": "display_data"
    },
    {
     "name": "stdout",
     "output_type": "stream",
     "text": [
      "AUC = 0.740\n",
      "train accuracy = 0.745652\n",
      "test accuracy = 0.646552\n"
     ]
    }
   ],
   "source": [
    "# evaluate model performance on test set\n",
    "test_roc(new_log19,np.array(X19_test),np.array(y19_test))\n",
    "print(\"train accuracy = %0.6f\" % new_log19.score(X19_train,y19_train))\n",
    "print(\"test accuracy = %0.6f\" % new_log19.score(X19_test,y19_test))"
   ]
  },
  {
   "cell_type": "code",
   "execution_count": 64,
   "metadata": {},
   "outputs": [
    {
     "name": "stdout",
     "output_type": "stream",
     "text": [
      "             precision    recall  f1-score   support\n",
      "\n",
      "        0.0       0.63      0.71      0.67        58\n",
      "        1.0       0.67      0.59      0.62        58\n",
      "\n",
      "avg / total       0.65      0.65      0.65       116\n",
      "\n"
     ]
    }
   ],
   "source": [
    "#Provide sensitivity and specifity.\n",
    "from sklearn.metrics import classification_report\n",
    "print(classification_report(y19_test,new_log19.predict(X19_test)))"
   ]
  },
  {
   "cell_type": "code",
   "execution_count": 65,
   "metadata": {},
   "outputs": [
    {
     "name": "stdout",
     "output_type": "stream",
     "text": [
      "Confusion Matrix is:\n",
      "[[41 17]\n",
      " [24 34]]\n"
     ]
    }
   ],
   "source": [
    "#Provide confusion matrix\n",
    "from sklearn.metrics import confusion_matrix\n",
    "confusion_matrix = confusion_matrix(y19_test, new_log19.predict(X19_test))\n",
    "print(\"Confusion Matrix is:\")\n",
    "print(confusion_matrix)"
   ]
  },
  {
   "cell_type": "markdown",
   "metadata": {},
   "source": [
    "# SVM"
   ]
  },
  {
   "cell_type": "markdown",
   "metadata": {},
   "source": [
    "<font color='blue'>\n",
    "Baseline Model\n",
    "<font/>"
   ]
  },
  {
   "cell_type": "code",
   "execution_count": 66,
   "metadata": {},
   "outputs": [
    {
     "data": {
      "text/plain": [
       "SVC(C=1, cache_size=200, class_weight=None, coef0=0.0,\n",
       "  decision_function_shape='ovr', degree=3, gamma='auto', kernel='rbf',\n",
       "  max_iter=-1, probability=True, random_state=12, shrinking=True,\n",
       "  tol=0.001, verbose=False)"
      ]
     },
     "execution_count": 66,
     "metadata": {},
     "output_type": "execute_result"
    }
   ],
   "source": [
    "from sklearn.svm import SVC\n",
    "svm19=SVC(probability=True,random_state=12,C=1)\n",
    "svm19.fit(X19_train,y19_train)"
   ]
  },
  {
   "cell_type": "code",
   "execution_count": 67,
   "metadata": {},
   "outputs": [
    {
     "data": {
      "image/png": "[encoded data removed]",
      "text/plain": [
       "<matplotlib.figure.Figure at 0x1a181087f0>"
      ]
     },
     "metadata": {},
     "output_type": "display_data"
    },
    {
     "name": "stdout",
     "output_type": "stream",
     "text": [
      "[ 0.57608696  0.7173913   0.68478261  0.58695652  0.64130435]\n",
      "Average Accuracy: 0.6413 (+/- 0.1091)\n"
     ]
    }
   ],
   "source": [
    "cv_roc(svm19,np.array(X19_train),np.array(y19_train))\n",
    "scores = cross_val_score(svm19, X19_train, y19_train, cv=5)\n",
    "print(scores)\n",
    "print(\"Average Accuracy: %0.4f (+/- %0.4f)\" % (scores.mean(), scores.std() * 2))"
   ]
  },
  {
   "cell_type": "code",
   "execution_count": 106,
   "metadata": {},
   "outputs": [
    {
     "data": {
      "image/png": "[encoded data removed]",
      "text/plain": [
       "<matplotlib.figure.Figure at 0x1a170c49e8>"
      ]
     },
     "metadata": {},
     "output_type": "display_data"
    },
    {
     "name": "stdout",
     "output_type": "stream",
     "text": [
      "AUC = 0.717\n",
      "Test Accuracy: 0.620689655172\n",
      "Train Accuracy 0.669565217391\n"
     ]
    }
   ],
   "source": [
    "test_roc(svm19,X19_test,y19_test)\n",
    "print('Test Accuracy:',svm19.score(X19_test,y19_test))\n",
    "print('Train Accuracy',svm19.score(X19_train,y19_train))"
   ]
  },
  {
   "cell_type": "markdown",
   "metadata": {},
   "source": [
    "<font color='blue'>\n",
    "Optimized by cross-validated grid-search over a parameter grid.\n",
    "<font/>\n"
   ]
  },
  {
   "cell_type": "code",
   "execution_count": 69,
   "metadata": {},
   "outputs": [
    {
     "data": {
      "text/plain": [
       "{'C': 10}"
      ]
     },
     "execution_count": 69,
     "metadata": {},
     "output_type": "execute_result"
    }
   ],
   "source": [
    "from sklearn.model_selection import GridSearchCV\n",
    "from sklearn import svm\n",
    "parameters = {'C':[0.001,0.001,0.1,1,10]}\n",
    "cvsvm19=GridSearchCV(svm19,parameters,cv=5)\n",
    "cvsvm19.fit(X19_train,y19_train)\n",
    "cvsvm19.best_params_"
   ]
  },
  {
   "cell_type": "code",
   "execution_count": 70,
   "metadata": {},
   "outputs": [
    {
     "data": {
      "image/png": "[encoded data removed]",
      "text/plain": [
       "<matplotlib.figure.Figure at 0x1a187b7c18>"
      ]
     },
     "metadata": {},
     "output_type": "display_data"
    },
    {
     "name": "stdout",
     "output_type": "stream",
     "text": [
      "[ 0.72826087  0.80434783  0.73913043  0.76086957  0.82608696]\n",
      "Average Accuracy: 0.7717 (+/- 0.0753)\n"
     ]
    }
   ],
   "source": [
    "# See cross validition result on new model.\n",
    "cv_roc(cvsvm19,np.array(X19_train),np.array(y19_train))\n",
    "scores = cross_val_score(cvsvm19, X19_train, y19_train, cv=5)\n",
    "print(scores)\n",
    "print(\"Average Accuracy: %0.4f (+/- %0.4f)\" % (scores.mean(), scores.std() * 2))"
   ]
  },
  {
   "cell_type": "markdown",
   "metadata": {},
   "source": [
    "<font color='blue'>\n",
    "We can see from the figure above that the cross validation result is significantly improved when applying C=10. Then apply the model on test set and see its accuracy\n",
    "<font/>"
   ]
  },
  {
   "cell_type": "code",
   "execution_count": 107,
   "metadata": {},
   "outputs": [
    {
     "data": {
      "image/png": "[encoded data removed]",
      "text/plain": [
       "<matplotlib.figure.Figure at 0x1a173ef748>"
      ]
     },
     "metadata": {},
     "output_type": "display_data"
    },
    {
     "name": "stdout",
     "output_type": "stream",
     "text": [
      "AUC = 0.837\n",
      "Test Accuracy = 0.75\n",
      "Train Accuracy = 0.847826086957\n"
     ]
    }
   ],
   "source": [
    "# Apply the model on test set and see its accuracy\n",
    "test_roc(cvsvm19,X19_test,y19_test)\n",
    "print('Test Accuracy =',cvsvm19.score(X19_test,y19_test))\n",
    "print('Train Accuracy =',cvsvm19.score(X19_train,y19_train))"
   ]
  },
  {
   "cell_type": "code",
   "execution_count": 72,
   "metadata": {},
   "outputs": [
    {
     "name": "stdout",
     "output_type": "stream",
     "text": [
      "             precision    recall  f1-score   support\n",
      "\n",
      "        0.0       0.81      0.66      0.72        58\n",
      "        1.0       0.71      0.84      0.77        58\n",
      "\n",
      "avg / total       0.76      0.75      0.75       116\n",
      "\n"
     ]
    }
   ],
   "source": [
    "#Provide sensitivity and specifity.\n",
    "from sklearn.metrics import classification_report\n",
    "print(classification_report(y19_test,cvsvm19.predict(X19_test)))"
   ]
  },
  {
   "cell_type": "code",
   "execution_count": 73,
   "metadata": {},
   "outputs": [
    {
     "name": "stdout",
     "output_type": "stream",
     "text": [
      "Confusion Matrix is:\n",
      "[[38 20]\n",
      " [ 9 49]]\n"
     ]
    }
   ],
   "source": [
    "#Provide confusion matrix.\n",
    "from sklearn.metrics import confusion_matrix\n",
    "confusion_matrix = confusion_matrix(y19_test, cvsvm19.predict(X19_test))\n",
    "print(\"Confusion Matrix is:\")\n",
    "print(confusion_matrix)"
   ]
  },
  {
   "cell_type": "markdown",
   "metadata": {},
   "source": [
    "# Adaboost"
   ]
  },
  {
   "cell_type": "code",
   "execution_count": 88,
   "metadata": {},
   "outputs": [],
   "source": [
    "from sklearn.ensemble import AdaBoostClassifier\n",
    "ada19 = AdaBoostClassifier(n_estimators=100)                            "
   ]
  },
  {
   "cell_type": "code",
   "execution_count": 89,
   "metadata": {},
   "outputs": [
    {
     "data": {
      "image/png": "[encoded data removed]",
      "text/plain": [
       "<matplotlib.figure.Figure at 0x1a175d8be0>"
      ]
     },
     "metadata": {},
     "output_type": "display_data"
    },
    {
     "name": "stdout",
     "output_type": "stream",
     "text": [
      "[ 0.79347826  0.80434783  0.77173913  0.77173913  0.84782609]\n",
      "Average Accuracy: 0.7978 (+/- 0.0560)\n"
     ]
    }
   ],
   "source": [
    "cv_roc(ada19,np.array(X19_train),np.array(y19_train))\n",
    "scores = cross_val_score(ada19, X19_train, y19_train, cv=5)\n",
    "print(scores)\n",
    "print(\"Average Accuracy: %0.4f (+/- %0.4f)\" % (scores.mean(), scores.std() * 2))"
   ]
  },
  {
   "cell_type": "code",
   "execution_count": 97,
   "metadata": {},
   "outputs": [
    {
     "data": {
      "text/plain": [
       "GridSearchCV(cv=None, error_score='raise',\n",
       "       estimator=AdaBoostClassifier(algorithm='SAMME.R', base_estimator=None,\n",
       "          learning_rate=1.0, n_estimators=100, random_state=None),\n",
       "       fit_params=None, iid=True, n_jobs=1,\n",
       "       param_grid={'n_estimators': [100, 200, 300, 400, 500]},\n",
       "       pre_dispatch='2*n_jobs', refit=True, return_train_score='warn',\n",
       "       scoring=None, verbose=0)"
      ]
     },
     "execution_count": 97,
     "metadata": {},
     "output_type": "execute_result"
    }
   ],
   "source": [
    "param_grid = {\"n_estimators\": [100,200,300,400,500] }\n",
    "cvada19 = GridSearchCV(ada19, param_grid=param_grid)\n",
    "cvada19.fit(X19_train, y19_train)"
   ]
  },
  {
   "cell_type": "code",
   "execution_count": 100,
   "metadata": {},
   "outputs": [
    {
     "data": {
      "text/plain": [
       "{'n_estimators': 400}"
      ]
     },
     "execution_count": 100,
     "metadata": {},
     "output_type": "execute_result"
    }
   ],
   "source": [
    "cvada19.best_params_"
   ]
  },
  {
   "cell_type": "code",
   "execution_count": 101,
   "metadata": {},
   "outputs": [
    {
     "data": {
      "image/png": "[encoded data removed]",
      "text/plain": [
       "<matplotlib.figure.Figure at 0x1a16f1e240>"
      ]
     },
     "metadata": {},
     "output_type": "display_data"
    },
    {
     "name": "stdout",
     "output_type": "stream",
     "text": [
      "[ 0.81521739  0.81521739  0.79347826  0.81521739  0.86956522]\n",
      "Average Accuracy: 0.8217 (+/- 0.0507)\n"
     ]
    }
   ],
   "source": [
    "cv_roc(cvada19,np.array(X19_train),np.array(y19_train))\n",
    "scores = cross_val_score(cvada19, X19_train, y19_train, cv=5)\n",
    "print(scores)\n",
    "print(\"Average Accuracy: %0.4f (+/- %0.4f)\" % (scores.mean(), scores.std() * 2))"
   ]
  },
  {
   "cell_type": "code",
   "execution_count": 109,
   "metadata": {},
   "outputs": [
    {
     "data": {
      "image/png": "[encoded data removed]",
      "text/plain": [
       "<matplotlib.figure.Figure at 0x1a16f7b828>"
      ]
     },
     "metadata": {},
     "output_type": "display_data"
    },
    {
     "name": "stdout",
     "output_type": "stream",
     "text": [
      "AUC = 0.827\n",
      "Train Accuracy: 0.963043478261\n",
      "Test Accuracy: 0.827586206897\n"
     ]
    }
   ],
   "source": [
    "test_roc(cvada19,X19_test,y19_test)\n",
    "print('Train Accuracy:',cvada19.score(X19_train,y19_train))\n",
    "print('Test Accuracy:',cvada19.score(X19_test,y19_test))"
   ]
  },
  {
   "cell_type": "code",
   "execution_count": 103,
   "metadata": {},
   "outputs": [
    {
     "name": "stdout",
     "output_type": "stream",
     "text": [
      "             precision    recall  f1-score   support\n",
      "\n",
      "        0.0       0.88      0.76      0.81        58\n",
      "        1.0       0.79      0.90      0.84        58\n",
      "\n",
      "avg / total       0.83      0.83      0.83       116\n",
      "\n"
     ]
    }
   ],
   "source": [
    "print(classification_report(y19_test,cvada19.predict(X19_test)))"
   ]
  },
  {
   "cell_type": "code",
   "execution_count": 102,
   "metadata": {},
   "outputs": [
    {
     "name": "stdout",
     "output_type": "stream",
     "text": [
      "Confusion Matrix is:\n",
      "[[35 20]\n",
      " [46  9]]\n"
     ]
    }
   ],
   "source": [
    "from sklearn.metrics import confusion_matrix\n",
    "confusion_matrix = confusion_matrix(y21_test, cvada19.predict(X21_test))\n",
    "print(\"Confusion Matrix is:\")\n",
    "print(confusion_matrix)"
   ]
  },
  {
   "cell_type": "markdown",
   "metadata": {
    "collapsed": true
   },
   "source": [
    "# Random Forest"
   ]
  },
  {
   "cell_type": "markdown",
   "metadata": {},
   "source": [
    "<font color='blue'>\n",
    "Baseline Model\n",
    "<font/>"
   ]
  },
  {
   "cell_type": "code",
   "execution_count": 74,
   "metadata": {},
   "outputs": [
    {
     "data": {
      "text/plain": [
       "RandomForestClassifier(bootstrap=True, class_weight=None, criterion='gini',\n",
       "            max_depth=None, max_features='auto', max_leaf_nodes=None,\n",
       "            min_impurity_decrease=0.0, min_impurity_split=None,\n",
       "            min_samples_leaf=1, min_samples_split=2,\n",
       "            min_weight_fraction_leaf=0.0, n_estimators=10, n_jobs=1,\n",
       "            oob_score=False, random_state=0, verbose=0, warm_start=False)"
      ]
     },
     "execution_count": 74,
     "metadata": {},
     "output_type": "execute_result"
    }
   ],
   "source": [
    "from sklearn.ensemble import RandomForestClassifier\n",
    "rf19 = RandomForestClassifier(random_state=0)\n",
    "#Train the model on training data\n",
    "rf19.fit(X19_train,y19_train)"
   ]
  },
  {
   "cell_type": "markdown",
   "metadata": {},
   "source": [
    "<font color='blue'>\n",
    "Cross Validation\n",
    "<font/>"
   ]
  },
  {
   "cell_type": "code",
   "execution_count": 75,
   "metadata": {},
   "outputs": [
    {
     "data": {
      "text/plain": [
       "<generator object _BaseKFold.split at 0x1a1878faf0>"
      ]
     },
     "execution_count": 75,
     "metadata": {},
     "output_type": "execute_result"
    }
   ],
   "source": [
    "from sklearn.model_selection import KFold\n",
    "kf = KFold(n_splits=5)\n",
    "kf.get_n_splits(X19_train,y19_train)\n",
    "kf.split(X19_train,y19_train)"
   ]
  },
  {
   "cell_type": "code",
   "execution_count": 76,
   "metadata": {
    "scrolled": true
   },
   "outputs": [
    {
     "data": {
      "image/png": "[encoded data removed]",
      "text/plain": [
       "<matplotlib.figure.Figure at 0x1a175ce0b8>"
      ]
     },
     "metadata": {},
     "output_type": "display_data"
    },
    {
     "name": "stdout",
     "output_type": "stream",
     "text": [
      "[ 0.85869565  0.86956522  0.92391304  0.80434783  0.92391304]\n",
      "Average Accuracy: 0.8761 (+/- 0.0897)\n"
     ]
    }
   ],
   "source": [
    "cv_roc(rf19,np.array(X19_train),np.array(y19_train))\n",
    "scores = cross_val_score(rf19, X19_train, y19_train, cv=5)\n",
    "print(scores)\n",
    "print(\"Average Accuracy: %0.4f (+/- %0.4f)\" % (scores.mean(), scores.std() * 2))"
   ]
  },
  {
   "cell_type": "markdown",
   "metadata": {},
   "source": [
    "<font color='blue'>\n",
    "Using Grid search cross validation to select best parameters\n",
    "<font/>"
   ]
  },
  {
   "cell_type": "code",
   "execution_count": 77,
   "metadata": {},
   "outputs": [
    {
     "data": {
      "text/plain": [
       "GridSearchCV(cv=None, error_score='raise',\n",
       "       estimator=RandomForestClassifier(bootstrap=True, class_weight=None, criterion='gini',\n",
       "            max_depth=None, max_features='auto', max_leaf_nodes=None,\n",
       "            min_impurity_decrease=0.0, min_impurity_split=None,\n",
       "            min_samples_leaf=1, min_samples_split=2,\n",
       "            min_weight_fraction_leaf=0.0, n_estimators=10, n_jobs=1,\n",
       "            oob_score=False, random_state=0, verbose=0, warm_start=False),\n",
       "       fit_params=None, iid=True, n_jobs=1,\n",
       "       param_grid={'max_depth': [3, None], 'bootstrap': [True, False], 'criterion': ['gini', 'entropy']},\n",
       "       pre_dispatch='2*n_jobs', refit=True, return_train_score='warn',\n",
       "       scoring=None, verbose=0)"
      ]
     },
     "execution_count": 77,
     "metadata": {},
     "output_type": "execute_result"
    }
   ],
   "source": [
    "from sklearn.model_selection import GridSearchCV\n",
    "param_dist = {\"max_depth\": [3, None],\n",
    "              \"bootstrap\": [True, False],\n",
    "              \"criterion\": [\"gini\", \"entropy\"]}\n",
    "\n",
    "# run grid search\n",
    "cvrf19 = GridSearchCV(rf19, param_grid=param_dist)\n",
    "cvrf19.fit(X19_train, y19_train)"
   ]
  },
  {
   "cell_type": "code",
   "execution_count": 78,
   "metadata": {},
   "outputs": [
    {
     "data": {
      "text/plain": [
       "{'bootstrap': False, 'criterion': 'entropy', 'max_depth': None}"
      ]
     },
     "execution_count": 78,
     "metadata": {},
     "output_type": "execute_result"
    }
   ],
   "source": [
    "#Show the best parameters for RF model\n",
    "cvrf19.best_params_"
   ]
  },
  {
   "cell_type": "code",
   "execution_count": 79,
   "metadata": {},
   "outputs": [
    {
     "data": {
      "image/png": "[encoded data removed]",
      "text/plain": [
       "<matplotlib.figure.Figure at 0x1a189fe5f8>"
      ]
     },
     "metadata": {},
     "output_type": "display_data"
    },
    {
     "name": "stdout",
     "output_type": "stream",
     "text": [
      "Cross Validation Accuracy set: [ 0.91304348  0.89130435  0.95652174  0.83695652  0.97826087]\n",
      "Average Cross Validation Accuracy: 0.9152 (+/- 0.0995)\n"
     ]
    }
   ],
   "source": [
    "#Draw ROC curve on the new model.\n",
    "cv_roc(cvrf19,np.array(X19_train),np.array(y19_train))\n",
    "scores = cross_val_score(cvrf19, X19_train, y19_train, cv=5)\n",
    "print(\"Cross Validation Accuracy set:\",scores)\n",
    "print(\"Average Cross Validation Accuracy: %0.4f (+/- %0.4f)\" % (scores.mean(), scores.std() * 2))"
   ]
  },
  {
   "cell_type": "code",
   "execution_count": 108,
   "metadata": {},
   "outputs": [
    {
     "data": {
      "image/png": "[encoded data removed]",
      "text/plain": [
       "<matplotlib.figure.Figure at 0x1a18a2de48>"
      ]
     },
     "metadata": {},
     "output_type": "display_data"
    },
    {
     "name": "stdout",
     "output_type": "stream",
     "text": [
      "AUC = 0.965\n",
      "Test Accuracy: 0.896551724138\n",
      "Train Accuracy 0.989130434783\n"
     ]
    }
   ],
   "source": [
    "test_roc(cvrf19,X19_test,y19_test)\n",
    "print('Test Accuracy:',cvrf19.score(X19_test,y19_test))\n",
    "print('Train Accuracy',cvrf19.score(X19_train,y19_train))"
   ]
  },
  {
   "cell_type": "code",
   "execution_count": 86,
   "metadata": {},
   "outputs": [
    {
     "name": "stdout",
     "output_type": "stream",
     "text": [
      "             precision    recall  f1-score   support\n",
      "\n",
      "        0.0       0.94      0.84      0.89        58\n",
      "        1.0       0.86      0.95      0.90        58\n",
      "\n",
      "avg / total       0.90      0.90      0.90       116\n",
      "\n"
     ]
    }
   ],
   "source": [
    "from sklearn.metrics import classification_report\n",
    "print(classification_report(y19_test,cvrf19.predict(X19_test)))"
   ]
  },
  {
   "cell_type": "code",
   "execution_count": 87,
   "metadata": {},
   "outputs": [
    {
     "name": "stdout",
     "output_type": "stream",
     "text": [
      "Confusion Matrix is:\n",
      "[[49  9]\n",
      " [ 3 55]]\n"
     ]
    }
   ],
   "source": [
    "from sklearn.metrics import confusion_matrix\n",
    "confusion_matrix = confusion_matrix(y19_test, cvrf19.predict(X19_test))\n",
    "print(\"Confusion Matrix is:\")\n",
    "print(confusion_matrix)"
   ]
  },
  {
   "cell_type": "markdown",
   "metadata": {
    "collapsed": true
   },
   "source": [
    "# Exon21"
   ]
  },
  {
   "cell_type": "code",
   "execution_count": 471,
   "metadata": {
    "collapsed": true
   },
   "outputs": [],
   "source": [
    "X_train_mean=X21_train.describe().T['mean'].tolist()\n",
    "X_test_mean=X21_test.describe().T['mean'].tolist()"
   ]
  },
  {
   "cell_type": "code",
   "execution_count": 472,
   "metadata": {},
   "outputs": [
    {
     "data": {
      "image/png": "[encoded data removed]",
      "text/plain": [
       "<matplotlib.figure.Figure at 0x1a1f7db8d0>"
      ]
     },
     "metadata": {},
     "output_type": "display_data"
    }
   ],
   "source": [
    "plt.bar(np.arange(36), X_train_mean, align='center',alpha=0.5)\n",
    "plt.ylabel('Mean')\n",
    "plt.xlabel('Features')\n",
    "plt.title('Features distribution of training set')\n",
    "plt.show()"
   ]
  },
  {
   "cell_type": "code",
   "execution_count": 473,
   "metadata": {},
   "outputs": [
    {
     "data": {
      "image/png": "[encoded data removed]",
      "text/plain": [
       "<matplotlib.figure.Figure at 0x1a1f7bd940>"
      ]
     },
     "metadata": {},
     "output_type": "display_data"
    }
   ],
   "source": [
    "plt.bar(np.arange(36), X_test_mean, align='center',alpha=0.5)\n",
    "plt.ylabel('Mean')\n",
    "plt.xlabel('Features')\n",
    "plt.title('Features distribution of testing set')\n",
    "plt.show()"
   ]
  },
  {
   "cell_type": "markdown",
   "metadata": {},
   "source": [
    "We can see from the tables above that the train and test set observations distributions are similar."
   ]
  },
  {
   "cell_type": "markdown",
   "metadata": {},
   "source": [
    "# Logistic Regression"
   ]
  },
  {
   "cell_type": "code",
   "execution_count": 111,
   "metadata": {
    "scrolled": true
   },
   "outputs": [
    {
     "data": {
      "text/plain": [
       "LogisticRegression(C=1, class_weight=None, dual=False, fit_intercept=True,\n",
       "          intercept_scaling=1, max_iter=200, multi_class='ovr', n_jobs=1,\n",
       "          penalty='l1', random_state=22, solver='liblinear', tol=0.0001,\n",
       "          verbose=0, warm_start=False)"
      ]
     },
     "execution_count": 111,
     "metadata": {},
     "output_type": "execute_result"
    }
   ],
   "source": [
    "log21 = LogisticRegression(penalty=\"l1\",solver=\"liblinear\",random_state=22,max_iter=200,C=1)\n",
    "log21.fit(X21_train,y21_train)"
   ]
  },
  {
   "cell_type": "code",
   "execution_count": 112,
   "metadata": {},
   "outputs": [
    {
     "data": {
      "image/png": "[encoded data removed]",
      "text/plain": [
       "<matplotlib.figure.Figure at 0x1a175fd5c0>"
      ]
     },
     "metadata": {},
     "output_type": "display_data"
    },
    {
     "name": "stdout",
     "output_type": "stream",
     "text": [
      "Cross Validation Accuracy set: [ 0.63636364  0.68181818  0.73863636  0.71264368  0.66666667]\n",
      "Average Cross Validation Accuracy: 0.6872 (+/- 0.0712)\n"
     ]
    }
   ],
   "source": [
    "cv_roc(log21,np.array(X21_train),np.array(y21_train))\n",
    "scores = cross_val_score(log21, X21_train, y21_train, cv=5)\n",
    "print(\"Cross Validation Accuracy set:\",scores)\n",
    "print(\"Average Cross Validation Accuracy: %0.4f (+/- %0.4f)\" % (scores.mean(), scores.std() * 2))"
   ]
  },
  {
   "cell_type": "code",
   "execution_count": 113,
   "metadata": {},
   "outputs": [
    {
     "name": "stdout",
     "output_type": "stream",
     "text": [
      "[ 0.63636364  0.68181818  0.73863636  0.71264368  0.66666667]\n",
      "average cross validition Accuracy:0.687225705329\n"
     ]
    }
   ],
   "source": [
    "cvscores21=cross_val_score(log21, X21_train,y21_train, scoring='accuracy', cv = 5)\n",
    "print(cvscores21)\n",
    "print(\"average cross validition Accuracy:\"+str(cvscores21.mean()))"
   ]
  },
  {
   "cell_type": "markdown",
   "metadata": {},
   "source": [
    "<font color='blue'>\n",
    "Use grid search cv to tune parameters.\n",
    "<font/>"
   ]
  },
  {
   "cell_type": "code",
   "execution_count": 114,
   "metadata": {},
   "outputs": [
    {
     "data": {
      "text/plain": [
       "{'C': 10}"
      ]
     },
     "execution_count": 114,
     "metadata": {},
     "output_type": "execute_result"
    }
   ],
   "source": [
    "parameters = {'C':[0.01,0.1,1,10,100]}\n",
    "new_log21 = grid_search.GridSearchCV(log21, parameters)\n",
    "new_log21.fit(X19_train,y19_train)\n",
    "new_log21.best_params_"
   ]
  },
  {
   "cell_type": "code",
   "execution_count": 115,
   "metadata": {},
   "outputs": [
    {
     "data": {
      "image/png": "[encoded data removed]",
      "text/plain": [
       "<matplotlib.figure.Figure at 0x1a16ecae10>"
      ]
     },
     "metadata": {},
     "output_type": "display_data"
    },
    {
     "name": "stdout",
     "output_type": "stream",
     "text": [
      "Cross Validation Accuracy set: [ 0.64772727  0.71590909  0.77272727  0.73563218  0.65517241]\n",
      "Average Cross Validation Accuracy: 0.7054 (+/- 0.0955)\n"
     ]
    }
   ],
   "source": [
    "cv_roc(new_log21,np.array(X21_train),np.array(y21_train))\n",
    "scores = cross_val_score(new_log21, X21_train, y21_train, cv=5)\n",
    "print(\"Cross Validation Accuracy set:\",scores)\n",
    "print(\"Average Cross Validation Accuracy: %0.4f (+/- %0.4f)\" % (scores.mean(), scores.std() * 2))"
   ]
  },
  {
   "cell_type": "code",
   "execution_count": 116,
   "metadata": {},
   "outputs": [
    {
     "data": {
      "image/png": "[encoded data removed]",
      "text/plain": [
       "<matplotlib.figure.Figure at 0x1a18b7ee10>"
      ]
     },
     "metadata": {},
     "output_type": "display_data"
    },
    {
     "name": "stdout",
     "output_type": "stream",
     "text": [
      "AUC = 0.728\n",
      "Test Accuracy: 0.681818181818\n",
      "Train Accuracy 0.74200913242\n"
     ]
    }
   ],
   "source": [
    "#Draw ROC curve and calculate AUC on test set\n",
    "test_roc(new_log21,X21_test,y21_test)\n",
    "print('Test Accuracy:',new_log21.score(X21_test,y21_test))\n",
    "print('Train Accuracy',new_log21.score(X21_train,y21_train))"
   ]
  },
  {
   "cell_type": "code",
   "execution_count": 134,
   "metadata": {},
   "outputs": [
    {
     "name": "stdout",
     "output_type": "stream",
     "text": [
      "             precision    recall  f1-score   support\n",
      "\n",
      "        0.0       0.72      0.60      0.65        55\n",
      "        1.0       0.66      0.76      0.71        55\n",
      "\n",
      "avg / total       0.69      0.68      0.68       110\n",
      "\n"
     ]
    }
   ],
   "source": [
    "print(classification_report(y21_test,new_log21.predict(X21_test)))"
   ]
  },
  {
   "cell_type": "code",
   "execution_count": 117,
   "metadata": {},
   "outputs": [
    {
     "name": "stdout",
     "output_type": "stream",
     "text": [
      "Confusion Matrix is:\n",
      "[[33 22]\n",
      " [13 42]]\n"
     ]
    }
   ],
   "source": [
    "from sklearn.metrics import confusion_matrix\n",
    "confusion_matrix = confusion_matrix(y21_test, new_log21.predict(X21_test))\n",
    "print(\"Confusion Matrix is:\")\n",
    "print(confusion_matrix)"
   ]
  },
  {
   "cell_type": "markdown",
   "metadata": {},
   "source": [
    "# SVM"
   ]
  },
  {
   "cell_type": "code",
   "execution_count": 118,
   "metadata": {},
   "outputs": [
    {
     "data": {
      "text/plain": [
       "SVC(C=1, cache_size=200, class_weight=None, coef0=0.0,\n",
       "  decision_function_shape='ovr', degree=3, gamma='auto', kernel='rbf',\n",
       "  max_iter=-1, probability=True, random_state=None, shrinking=True,\n",
       "  tol=0.001, verbose=False)"
      ]
     },
     "execution_count": 118,
     "metadata": {},
     "output_type": "execute_result"
    }
   ],
   "source": [
    "svm21=SVC(probability=True,C=1)\n",
    "svm21.fit(X21_train,y21_train)"
   ]
  },
  {
   "cell_type": "code",
   "execution_count": 119,
   "metadata": {},
   "outputs": [
    {
     "data": {
      "image/png": "[encoded data removed]",
      "text/plain": [
       "<matplotlib.figure.Figure at 0x1a18b105c0>"
      ]
     },
     "metadata": {},
     "output_type": "display_data"
    },
    {
     "name": "stdout",
     "output_type": "stream",
     "text": [
      "Cross Validation Accuracy set: [ 0.64772727  0.69318182  0.75        0.70114943  0.66666667]\n",
      "Average Cross Validation Accuracy: 0.6917 (+/- 0.0696)\n"
     ]
    }
   ],
   "source": [
    "cv_roc(svm21,np.array(X21_train),np.array(y21_train))\n",
    "scores=cross_val_score(svm21, X21_train,y21_train, scoring='accuracy', cv = 5)\n",
    "print(\"Cross Validation Accuracy set:\",scores)\n",
    "print(\"Average Cross Validation Accuracy: %0.4f (+/- %0.4f)\" % (scores.mean(), scores.std() * 2))"
   ]
  },
  {
   "cell_type": "code",
   "execution_count": 120,
   "metadata": {},
   "outputs": [
    {
     "data": {
      "text/plain": [
       "{'C': 10}"
      ]
     },
     "execution_count": 120,
     "metadata": {},
     "output_type": "execute_result"
    }
   ],
   "source": [
    "parameters = {'C':[0.001,0.001,0.1,1,10]}\n",
    "cvsvm21=GridSearchCV(svm21,parameters,cv=5)\n",
    "cvsvm21.fit(X21_train,y21_train)\n",
    "cvsvm21.best_params_"
   ]
  },
  {
   "cell_type": "code",
   "execution_count": 121,
   "metadata": {},
   "outputs": [
    {
     "data": {
      "image/png": "[encoded data removed]",
      "text/plain": [
       "<matplotlib.figure.Figure at 0x1a17002f28>"
      ]
     },
     "metadata": {},
     "output_type": "display_data"
    },
    {
     "name": "stdout",
     "output_type": "stream",
     "text": [
      "Cross Validation Accuracy set: [ 0.67045455  0.78409091  0.80681818  0.7816092   0.71264368]\n",
      "Average Cross Validation Accuracy: 0.7511 (+/- 0.1024)\n"
     ]
    }
   ],
   "source": [
    "cv_roc(cvsvm21,np.array(X21_train),np.array(y21_train))\n",
    "scores = cross_val_score(cvsvm21, X21_train, y21_train, cv=5)\n",
    "print(\"Cross Validation Accuracy set:\",scores)\n",
    "print(\"Average Cross Validation Accuracy: %0.4f (+/- %0.4f)\" % (scores.mean(), scores.std() * 2))"
   ]
  },
  {
   "cell_type": "code",
   "execution_count": 122,
   "metadata": {},
   "outputs": [
    {
     "data": {
      "image/png": "[encoded data removed]",
      "text/plain": [
       "<matplotlib.figure.Figure at 0x1a18809470>"
      ]
     },
     "metadata": {},
     "output_type": "display_data"
    },
    {
     "name": "stdout",
     "output_type": "stream",
     "text": [
      "AUC = 0.805\n",
      "Test Accuracy: 0.7\n",
      "Train Accuracy 0.819634703196\n"
     ]
    }
   ],
   "source": [
    "#Draw ROC curve and calculate AUC on test set\n",
    "test_roc(cvsvm21,X21_test,y21_test)\n",
    "print('Test Accuracy:',cvsvm21.score(X21_test,y21_test))\n",
    "print('Train Accuracy',cvsvm21.score(X21_train,y21_train))"
   ]
  },
  {
   "cell_type": "code",
   "execution_count": 125,
   "metadata": {},
   "outputs": [
    {
     "name": "stdout",
     "output_type": "stream",
     "text": [
      "             precision    recall  f1-score   support\n",
      "\n",
      "        0.0       0.74      0.62      0.67        55\n",
      "        1.0       0.67      0.78      0.72        55\n",
      "\n",
      "avg / total       0.71      0.70      0.70       110\n",
      "\n"
     ]
    }
   ],
   "source": [
    "print(classification_report(y21_test,cvsvm21.predict(X21_test)))"
   ]
  },
  {
   "cell_type": "code",
   "execution_count": 123,
   "metadata": {},
   "outputs": [
    {
     "name": "stdout",
     "output_type": "stream",
     "text": [
      "Confusion Matrix is:\n",
      "[[34 21]\n",
      " [12 43]]\n"
     ]
    }
   ],
   "source": [
    "from sklearn.metrics import confusion_matrix\n",
    "confusion_matrix = confusion_matrix(y21_test, cvsvm21.predict(X21_test))\n",
    "print(\"Confusion Matrix is:\")\n",
    "print(confusion_matrix)"
   ]
  },
  {
   "cell_type": "markdown",
   "metadata": {},
   "source": [
    "# Random Forest"
   ]
  },
  {
   "cell_type": "code",
   "execution_count": 126,
   "metadata": {},
   "outputs": [
    {
     "data": {
      "text/plain": [
       "RandomForestClassifier(bootstrap=True, class_weight=None, criterion='gini',\n",
       "            max_depth=None, max_features='auto', max_leaf_nodes=None,\n",
       "            min_impurity_decrease=0.0, min_impurity_split=None,\n",
       "            min_samples_leaf=1, min_samples_split=2,\n",
       "            min_weight_fraction_leaf=0.0, n_estimators=10, n_jobs=1,\n",
       "            oob_score=False, random_state=0, verbose=0, warm_start=False)"
      ]
     },
     "execution_count": 126,
     "metadata": {},
     "output_type": "execute_result"
    }
   ],
   "source": [
    "rf21 = RandomForestClassifier(random_state=0)\n",
    "#Train the model on training data\n",
    "rf21.fit(X21_train,y21_train)"
   ]
  },
  {
   "cell_type": "code",
   "execution_count": 127,
   "metadata": {},
   "outputs": [
    {
     "data": {
      "image/png": "[encoded data removed]",
      "text/plain": [
       "<matplotlib.figure.Figure at 0x1a16fe2438>"
      ]
     },
     "metadata": {},
     "output_type": "display_data"
    },
    {
     "name": "stdout",
     "output_type": "stream",
     "text": [
      "[ 0.80681818  0.82954545  0.86363636  0.85057471  0.93103448]\n",
      "Average Accuracy: 0.8563 (+/- 0.0841)\n"
     ]
    }
   ],
   "source": [
    "cv_roc(rf21,np.array(X21_train),np.array(y21_train))\n",
    "scores = cross_val_score(rf21, X21_train, y21_train, cv=5)\n",
    "print(scores)\n",
    "print(\"Average Accuracy: %0.4f (+/- %0.4f)\" % (scores.mean(), scores.std() * 2))"
   ]
  },
  {
   "cell_type": "code",
   "execution_count": 128,
   "metadata": {},
   "outputs": [
    {
     "data": {
      "text/plain": [
       "GridSearchCV(cv=None, error_score='raise',\n",
       "       estimator=RandomForestClassifier(bootstrap=True, class_weight=None, criterion='gini',\n",
       "            max_depth=None, max_features='auto', max_leaf_nodes=None,\n",
       "            min_impurity_decrease=0.0, min_impurity_split=None,\n",
       "            min_samples_leaf=1, min_samples_split=2,\n",
       "            min_weight_fraction_leaf=0.0, n_estimators=10, n_jobs=1,\n",
       "            oob_score=False, random_state=0, verbose=0, warm_start=False),\n",
       "       fit_params=None, iid=True, n_jobs=1,\n",
       "       param_grid={'max_depth': [3, 10, None], 'bootstrap': [True, False], 'criterion': ['gini', 'entropy']},\n",
       "       pre_dispatch='2*n_jobs', refit=True, return_train_score='warn',\n",
       "       scoring=None, verbose=0)"
      ]
     },
     "execution_count": 128,
     "metadata": {},
     "output_type": "execute_result"
    }
   ],
   "source": [
    "param_dist = {\"max_depth\": [3, 10,None],\n",
    "              \"bootstrap\": [True, False],\n",
    "              \"criterion\": [\"gini\", \"entropy\"]}\n",
    "\n",
    "# run randomized search\n",
    "cvrf21 = GridSearchCV(rf21, param_grid=param_dist)\n",
    "cvrf21.fit(X21_train, y21_train)"
   ]
  },
  {
   "cell_type": "code",
   "execution_count": 129,
   "metadata": {},
   "outputs": [
    {
     "data": {
      "text/plain": [
       "{'bootstrap': True, 'criterion': 'gini', 'max_depth': None}"
      ]
     },
     "execution_count": 129,
     "metadata": {},
     "output_type": "execute_result"
    }
   ],
   "source": [
    "#To see the best parameters\n",
    "cvrf21.best_params_"
   ]
  },
  {
   "cell_type": "code",
   "execution_count": 130,
   "metadata": {},
   "outputs": [
    {
     "data": {
      "image/png": "[encoded data removed]",
      "text/plain": [
       "<matplotlib.figure.Figure at 0x1a18a3b6d8>"
      ]
     },
     "metadata": {},
     "output_type": "display_data"
    },
    {
     "name": "stdout",
     "output_type": "stream",
     "text": [
      "[ 0.85227273  0.89772727  0.85227273  0.85057471  0.94252874]\n",
      "Average Accuracy: 0.8791 (+/- 0.0728)\n"
     ]
    }
   ],
   "source": [
    "cv_roc(cvrf21,np.array(X21_train),np.array(y21_train))\n",
    "scores = cross_val_score(cvrf21, X21_train, y21_train, cv=5)\n",
    "print(scores)\n",
    "print(\"Average Accuracy: %0.4f (+/- %0.4f)\" % (scores.mean(), scores.std() * 2))"
   ]
  },
  {
   "cell_type": "code",
   "execution_count": 131,
   "metadata": {},
   "outputs": [
    {
     "data": {
      "image/png": "[encoded data removed]",
      "text/plain": [
       "<matplotlib.figure.Figure at 0x1a189ef9b0>"
      ]
     },
     "metadata": {},
     "output_type": "display_data"
    },
    {
     "name": "stdout",
     "output_type": "stream",
     "text": [
      "AUC = 0.962\n",
      "Test Accuracy: 0.890909090909\n",
      "Train Accuracy 0.98401826484\n"
     ]
    }
   ],
   "source": [
    "#Draw ROC curve and calculate AUC on test set\n",
    "test_roc(cvrf21,X21_test,y21_test)\n",
    "print('Test Accuracy:',cvrf21.score(X21_test,y21_test))\n",
    "print('Train Accuracy',cvrf21.score(X21_train,y21_train))"
   ]
  },
  {
   "cell_type": "code",
   "execution_count": 135,
   "metadata": {},
   "outputs": [
    {
     "name": "stdout",
     "output_type": "stream",
     "text": [
      "             precision    recall  f1-score   support\n",
      "\n",
      "        0.0       0.94      0.84      0.88        55\n",
      "        1.0       0.85      0.95      0.90        55\n",
      "\n",
      "avg / total       0.90      0.89      0.89       110\n",
      "\n"
     ]
    }
   ],
   "source": [
    "print(classification_report(y21_test,cvrf21.predict(X21_test)))"
   ]
  },
  {
   "cell_type": "code",
   "execution_count": 132,
   "metadata": {},
   "outputs": [
    {
     "name": "stdout",
     "output_type": "stream",
     "text": [
      "Confusion Matrix is:\n",
      "[[46  9]\n",
      " [ 3 52]]\n"
     ]
    }
   ],
   "source": [
    "from sklearn.metrics import confusion_matrix\n",
    "confusion_matrix = confusion_matrix(y21_test, cvrf21.predict(X21_test))\n",
    "print(\"Confusion Matrix is:\")\n",
    "print(confusion_matrix)"
   ]
  },
  {
   "cell_type": "markdown",
   "metadata": {
    "collapsed": true
   },
   "source": [
    "# Summary"
   ]
  },
  {
   "cell_type": "markdown",
   "metadata": {},
   "source": [
    "For exon19 mutation, I apply logistic regression, SVM, random forest and adaboost.The results are:\n"
   ]
  },
  {
   "cell_type": "markdown",
   "metadata": {},
   "source": [
    "| Algorithm         |Train Accuracy |Test Accuracy|AUC  |\n",
    "|-------------------|---------------|-------------|-----|\n",
    "|Logistic Regression|0.746          |0.647        |0.740|\n",
    "|SVM                |0.848          |0.750        |0.837|\n",
    "|Adaboost           |0.963          |0.828        |0.827|\n",
    "|Random Forest      |0.989          |0.897        |0.965|"
   ]
  },
  {
   "cell_type": "markdown",
   "metadata": {},
   "source": [
    "For exon21 mutation, I apply logistic regression, SVM, random forest.The results are:"
   ]
  },
  {
   "cell_type": "markdown",
   "metadata": {},
   "source": [
    "| Algorithm         |Train Accuracy |Test Accuracy|AUC  |\n",
    "|-------------------|---------------|-------------|-----|\n",
    "|Logistic Regression|0.742          |0.682        |0.728|\n",
    "|SVM                |0.820          |0.700        |0.805|\n",
    "|Random Forest      |0.984          |0.891        |0.962|"
   ]
  }
 ],
 "metadata": {
  "kernelspec": {
   "display_name": "Python 3",
   "language": "python",
   "name": "python3"
  },
  "language_info": {
   "codemirror_mode": {
    "name": "ipython",
    "version": 3
   },
   "file_extension": ".py",
   "mimetype": "text/x-python",
   "name": "python",
   "nbconvert_exporter": "python",
   "pygments_lexer": "ipython3",
   "version": "3.6.4"
  }
 },
 "nbformat": 4,
 "nbformat_minor": 2
}
